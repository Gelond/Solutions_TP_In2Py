{
 "cells": [
  {
   "cell_type": "markdown",
   "metadata": {
    "colab_type": "text",
    "id": "view-in-github"
   },
   "source": [
    "<a href=\"https://colab.research.google.com/github/gabayae/colab-notebooks-in2py/blob/main/In2Py_TP_01.ipynb\" target=\"_parent\"><img src=\"https://colab.research.google.com/assets/colab-badge.svg\" alt=\"Open In Colab\"/></a>"
   ]
  },
  {
   "cell_type": "markdown",
   "metadata": {
    "id": "22f02e1a"
   },
   "source": [
    "\n",
    "### <center> <b> <span style=\"color:blue;\"> Travaux Pratiques: Variables, Types & Opérations </span> </b></center>"
   ]
  },
  {
   "cell_type": "markdown",
   "metadata": {
    "id": "ddc667e7"
   },
   "source": [
    "**Exercise 00:**  \n",
    ">\n",
    "\n",
    "  \n",
    "> 1. Déclarez une variable `prenom` et attribuez-lui une valeur.\n",
    "  > 2. Déclarez une variable `nom` et attribuez-lui une valeur.\n",
    "  > 3. Déclarez une variable `prenom_nom` et attribuez-lui une valeur.\n",
    "  > 4. Déclarez une variable `pays` et attribuez-lui une valeur.\n",
    "  > 5. Déclarez une variable `ville` et attribuez-lui une valeur.\n",
    "  > 6. Déclarez une variable `age` et attribuez-lui une valeur.\n",
    "  > 7. Déclarez une variable `annee` et attribuez-lui une valeur.\n",
    "  > 8. Déclarez une variable `est_marie` et attribuez-lui une valeur.\n",
    "  > 9. Déclarez une variable `est_vrai` et attribuez-lui une valeur.\n",
    "\n",
    "> Pour chacune des variables ci-dessus, affichez la valeur qu'elle contient à l'aide de la fonction `print()`.\n",
    "\n"
   ]
  },
  {
   "cell_type": "code",
   "execution_count": 6,
   "metadata": {
    "id": "ebd3951d"
   },
   "outputs": [
    {
     "name": "stdout",
     "output_type": "stream",
     "text": [
      "Prenom: Géofroid\n",
      "Nom: LONMADON\n",
      "Prenom_Nom: Géo Lmd\n",
      "Pays: Bénin\n",
      "Ville: Calavi\n",
      "Age: 21\n",
      "Année: 2022\n",
      "Est_marie: False\n",
      "Est_vrai: True\n"
     ]
    }
   ],
   "source": [
    "prenom = \"Géofroid\"\n",
    "nom = \"LONMADON\"\n",
    "prenom_nom = \"Géo Lmd\"\n",
    "pays = \"Bénin\"\n",
    "ville = \"Calavi\"\n",
    "age = 21\n",
    "annee = 2022\n",
    "est_marie = False\n",
    "est_vrai = True\n",
    "\n",
    "print(\"Prenom: \"+ prenom)\n",
    "print(\"Nom: \"+ nom)\n",
    "print(\"Prenom_Nom: \" + prenom_nom)\n",
    "print(\"Pays: \"+ pays)\n",
    "print(\"Ville: \"+ ville)\n",
    "print(\"Age: \"+ str(age))\n",
    "print(\"Année: \"+ str(annee))\n",
    "print(\"Est_marie: \"+ str(est_marie))\n",
    "print(\"Est_vrai: \"+ str(est_vrai))\n",
    "\n"
   ]
  },
  {
   "cell_type": "markdown",
   "metadata": {
    "id": "85eb4f96"
   },
   "source": [
    "**Exercise 01:** \n",
    "> Vérifiez le type de données de toutes vos variables à l'aide de la fonction intégrée `type()`.**\n"
   ]
  },
  {
   "cell_type": "code",
   "execution_count": 12,
   "metadata": {
    "id": "c5c47124"
   },
   "outputs": [
    {
     "name": "stdout",
     "output_type": "stream",
     "text": [
      "<class 'str'>\n",
      "<class 'str'>\n",
      "<class 'str'>\n",
      "<class 'str'>\n",
      "<class 'int'>\n",
      "<class 'int'>\n",
      "<class 'bool'>\n",
      "<class 'bool'>\n"
     ]
    }
   ],
   "source": [
    "print(type(prenom))\n",
    "print(type(nom))\n",
    "print(type(prenom_nom))\n",
    "print(type(ville))\n",
    "print(type(age))\n",
    "print(type (annee))\n",
    "print(type(est_marie))\n",
    "print(type(est_vrai))\n"
   ]
  },
  {
   "cell_type": "code",
   "execution_count": 14,
   "metadata": {
    "id": "fb4df11a"
   },
   "outputs": [
    {
     "name": "stdout",
     "output_type": "stream",
     "text": [
      "0\n"
     ]
    }
   ],
   "source": [
    "x = -3\n",
    "y = x*x + 6*x + 9\n",
    "print(y)"
   ]
  },
  {
   "cell_type": "markdown",
   "metadata": {
    "id": "8f40e3ab"
   },
   "source": [
    "**Exercise 03:** \n",
    ">    \n",
    "\n",
    "     1. Déclarez votre âge sous forme de variable entière\n",
    "     2. Déclarez votre taille en tant que variable flottante\n",
    "     3. Déclarez une variable qui stocke la base et la hauteur d'un triangle. Calculez l'aire de ce triangle (aire = 0,5 x b x h)."
   ]
  },
  {
   "cell_type": "code",
   "execution_count": 20,
   "metadata": {
    "id": "rpAlhgG_9A5z"
   },
   "outputs": [
    {
     "name": "stdout",
     "output_type": "stream",
     "text": [
      "21\n",
      "1.6\n",
      "10.0\n"
     ]
    }
   ],
   "source": [
    "age = 21\n",
    "taille = 1.6\n",
    "base = 4\n",
    "hauteur = 5\n",
    "\n",
    "e = base*hauteur/2\n",
    "print(age)\n",
    "print(taille)\n",
    "print(e)\n"
   ]
  },
  {
   "cell_type": "markdown",
   "metadata": {
    "id": "9957391d"
   },
   "source": [
    "## *Astuce : recevoir les entrées de l'utilisateur *\n",
    "**Pour recevoir une entrée de l'utilisateur, nous utilisons `input()`.**.\n",
    "\n",
    "**Exemple**\n",
    "Recevez deux nombres en entrée de l'utilisateur et calculez leur puissance :\n",
    "```python\n",
    "base = input(\"Entrez une base : \")\n",
    "exposant = input(\"Entrez un exposant : \")\n",
    "resultat = float(base) ** float(exposant)\n",
    "print(f \"{base} à la puissance {exposant} = {résultat}\")\n",
    "```"
   ]
  },
  {
   "cell_type": "markdown",
   "metadata": {
    "id": "0fb34716"
   },
   "source": [
    "**Exercise 04:** \n",
    "> **Write a small code that asks the user to enter the side $a$, the side $b$ and the side $c$ of a triangle. Calculate the perimeter of the triangle (perimeter = a + b + c).**"
   ]
  },
  {
   "cell_type": "code",
   "execution_count": 23,
   "metadata": {
    "id": "6618f067"
   },
   "outputs": [
    {
     "name": "stdout",
     "output_type": "stream",
     "text": [
      "Enter the first side: 4\n",
      "Enter the second side: 5\n",
      "Enter the third side: 6\n",
      "The perimeter of the triangle is: 15\n"
     ]
    }
   ],
   "source": [
    "a = input(\"Enter the first side: \")\n",
    "b = input(\"Enter the second side: \")\n",
    "c = input(\"Enter the third side: \")\n",
    "a = int(a)\n",
    "b = int(b)\n",
    "c = int(c)\n",
    "p = a + b + c\n",
    "\n",
    "print(\"The perimeter of the triangle is: \" + str(p))"
   ]
  },
  {
   "cell_type": "markdown",
   "metadata": {
    "id": "e482c15c"
   },
   "source": [
    "**Exercise 05:** \n",
    "> **Obtenez la longueur et la largeur d'un rectangle à l'aide de l'invite. Calculer sa `superficie` et son `perimetre`.**"
   ]
  },
  {
   "cell_type": "code",
   "execution_count": 27,
   "metadata": {
    "id": "286cec4c"
   },
   "outputs": [
    {
     "name": "stdout",
     "output_type": "stream",
     "text": [
      "Entrez les dimensions d'un rectangle:\n",
      "Longueur: 5\n",
      "Largeur (qui doit être inférieure à la longueur): 4\n",
      "La superficie du rectangle est: 20.0 et son perimetre est: 18.0\n"
     ]
    }
   ],
   "source": [
    "print(\"Entrez les dimensions d'un rectangle:\")\n",
    "\n",
    "long = input(\"Longueur: \")\n",
    "\n",
    "large = input(\"Largeur (qui doit être inférieure à la longueur): \")\n",
    "\n",
    "long = float(long)\n",
    "large = float(large)\n",
    "aire = long*large\n",
    "peri = (long + large)*2\n",
    "\n",
    "print(\"La superficie du rectangle est: \" +str(aire)+ \" et son perimetre est: \" +str(peri))"
   ]
  },
  {
   "cell_type": "markdown",
   "metadata": {
    "id": "cf15844c"
   },
   "source": [
    "**Exercice 06:** \n",
    "> **Obtenez le rayon d'un cercle en utilisant l'invite. Calculez l'aire (aire = pi x r x r) et la circonférence (c = 2 x pi x r) où pi = 3,14.**"
   ]
  },
  {
   "cell_type": "code",
   "execution_count": 6,
   "metadata": {
    "id": "ee0ee85e"
   },
   "outputs": [
    {
     "name": "stdout",
     "output_type": "stream",
     "text": [
      "Entrez le rayon d'un cercle: 5\n",
      "L'aire du cercle est 78.5 et sa circonférence est 31.400000000000002\n"
     ]
    }
   ],
   "source": [
    "r = float(input(\"Entrez le rayon d'un cercle: \"))\n",
    "\n",
    "pi = 3.14\n",
    "\n",
    "aire = pi*r*r\n",
    "\n",
    "c = 2*pi*r\n",
    "\n",
    "print(\"L'aire du cercle est \" +str(aire)+ \" et sa circonférence est \" +str(c))"
   ]
  },
  {
   "cell_type": "markdown",
   "metadata": {
    "id": "d9dec37a"
   },
   "source": [
    "**Exercice 07:**\n",
    "> **Calculez la pente, l'ordonnée à l'origine en x et l'ordonnée à l'origine en $y$ de $y = 2x -2$.**"
   ]
  },
  {
   "cell_type": "code",
   "execution_count": 5,
   "metadata": {
    "id": "203e449c"
   },
   "outputs": [
    {
     "name": "stdout",
     "output_type": "stream",
     "text": [
      "Entrez l'ordonnée à l'origine en x: 5\n",
      "L'ordonnée à l'origine en y est 8.0\n"
     ]
    }
   ],
   "source": [
    "x = float(input(\"Entrez l'ordonnée à l'origine en x: \"))\n",
    "\n",
    "y = 2*x - 2\n",
    "\n",
    "print(\"L'ordonnée à l'origine en y est \"+str(y))"
   ]
  },
  {
   "cell_type": "markdown",
   "metadata": {
    "id": "2f74d685"
   },
   "source": [
    "**Exercice 08:** \n",
    "> **Rédigez un script qui demande à l'utilisateur d'entrer les heures et le taux horaire. Calculez la rémunération de la personne ?**"
   ]
  },
  {
   "cell_type": "code",
   "execution_count": 4,
   "metadata": {
    "id": "7cff5a0a"
   },
   "outputs": [
    {
     "name": "stdout",
     "output_type": "stream",
     "text": [
      "Entrez vos heurs de travails: 5\n",
      "Entrez le taux horaie: 97\n",
      "Votre rémunération est 485.0$\n"
     ]
    }
   ],
   "source": [
    "h = float(input(\"Entrez vos heurs de travails: \"))\n",
    "\n",
    "t = float(input(\"Entrez le taux horaie: \"))\n",
    "\n",
    "r = h*t\n",
    "\n",
    "print(\"Votre rémunération est \" +str(r)+ \"$\")"
   ]
  },
  {
   "cell_type": "markdown",
   "metadata": {
    "id": "6ddd662c"
   },
   "source": [
    "**Exercice 09:** \n",
    "> **Écrivez un script qui demande à l'utilisateur d'entrer le nombre d'années. Calculez le nombre de secondes qu'une personne peut vivre. Supposons qu'une personne puisse vivre cent ans.**"
   ]
  },
  {
   "cell_type": "code",
   "execution_count": 38,
   "metadata": {
    "id": "44c2a63c"
   },
   "outputs": [
    {
     "name": "stdout",
     "output_type": "stream",
     "text": [
      "Entrez un nombre d'années: 1\n",
      "1ans est équivalente à 31536000 secondes\n"
     ]
    }
   ],
   "source": [
    "annee = input(\"Entrez un nombre d'années: \")\n",
    "annee = int(annee)\n",
    "\n",
    "a = 60*60*24*365\n",
    "nb_secondes = annee*a\n",
    "print(str(annee)+ \" ans est équivalente à \" +str(nb_secondes)+ \" secondes\")"
   ]
  },
  {
   "cell_type": "markdown",
   "metadata": {
    "id": "9b253387"
   },
   "source": [
    "**Exercice 10:** \n",
    "> **Écrivez un script Python qui affiche le tableau suivant**\n",
    "\n",
    "    1 1 1 1 1\n",
    "    \n",
    "    2 1 2 4 8\n",
    "    \n",
    "    3 1 3 9 27\n",
    "    \n",
    "    4 1 4 16 64\n",
    "    \n",
    "    5 1 5 25 125"
   ]
  },
  {
   "cell_type": "code",
   "execution_count": 41,
   "metadata": {
    "id": "aa2dae84"
   },
   "outputs": [
    {
     "name": "stdout",
     "output_type": "stream",
     "text": [
      "1 1 1 1 1\n",
      "\n",
      "2 1 2 4 8\n",
      "\n",
      "3 1 3 9 27\n",
      "\n",
      "4 1 4 16 64\n",
      "\n",
      "5 1 5 25 125\n"
     ]
    }
   ],
   "source": [
    "print(\"1 1 1 1 1\\n\\n2 1 2 4 8\\n\\n3 1 3 9 27\\n\\n4 1 4 16 64\\n\\n5 1 5 25 125\")"
   ]
  },
  {
   "cell_type": "markdown",
   "metadata": {
    "id": "953e7d8c"
   },
   "source": [
    "**Exercise 11:** \n",
    ">**Attribuez aux variables `temps` et `distance` les valeurs $6.892$ et $19.7$. Calculer et afficher la valeur de la vitesse. Améliorer l'affichage en imposant un chiffre après la virgule.**"
   ]
  },
  {
   "cell_type": "code",
   "execution_count": 51,
   "metadata": {
    "id": "6d787289"
   },
   "outputs": [
    {
     "name": "stdout",
     "output_type": "stream",
     "text": [
      "La vitesse est: 2.8583865351131745\n",
      "La vitesse est: 2.8\n"
     ]
    }
   ],
   "source": [
    "temps = 6.892\n",
    "distance = 19.7\n",
    "vitesse = distance/temps\n",
    "print(\"La vitesse est: \" +str(vitesse))\n",
    "vitesse = str(vitesse)\n",
    "print(\"La vitesse est: \" +str(vitesse[:3]))"
   ]
  },
  {
   "cell_type": "markdown",
   "metadata": {
    "id": "2d0f1ff9"
   },
   "source": [
    "**Exercice 12:** \n",
    "> **Écrire un programme qui, à partir de la saisie d’un rayon et d’une hauteur, calcule levolume d’un cône droit.**"
   ]
  },
  {
   "cell_type": "code",
   "execution_count": 21,
   "metadata": {
    "id": "969f5f68"
   },
   "outputs": [
    {
     "name": "stdout",
     "output_type": "stream",
     "text": [
      "Entrez le rayon d'un cône: 4\n",
      "Entrez sa hauteur: 6\n",
      "Le volume du cône est 100.48\n"
     ]
    }
   ],
   "source": [
    "r = input(\"Entrez le rayon d'un cône: \")\n",
    "r = float(r)\n",
    "h = input(\"Entrez sa hauteur: \")\n",
    "h = float(h)\n",
    "pi = 3.14\n",
    "v = pi*r*r*h/3\n",
    "print(\"Le volume du cône est \" +str(v))"
   ]
  },
  {
   "cell_type": "markdown",
   "metadata": {
    "id": "e9b3ce2a"
   },
   "source": [
    "**Exercise 13:** \n",
    "> **L'utilisateur donne un entier positif et le programme annonce combien de fois de suite cet entier est divisible par 2.**"
   ]
  },
  {
   "cell_type": "code",
   "execution_count": 10,
   "metadata": {
    "id": "5c8fea9a"
   },
   "outputs": [
    {
     "name": "stdout",
     "output_type": "stream",
     "text": [
      "Entrez un entier: 8\n",
      "L'entier 8 est 3 fois divisible par 2\n"
     ]
    }
   ],
   "source": [
    "n = int(input(\"Entrez un entier: \"))\n",
    "\n",
    "i = 1\n",
    "j=0\n",
    "\n",
    "while (2**i <= n):\n",
    "    if n%2**i==0:\n",
    "        j+=1\n",
    "    i+=1\n",
    "    \n",
    "print(\"L'entier \" +str(n)+ \" est \" +str(j)+ \" fois divisible par 2\")\n",
    "        "
   ]
  },
  {
   "cell_type": "markdown",
   "metadata": {
    "id": "0485aed6"
   },
   "source": [
    "**Exercise 14:** \n",
    ">**L'utilisateur donne un nombre entier entre 2 et 12, le programme donne le nombre de façons de le faire en lançant deux dés.**"
   ]
  },
  {
   "cell_type": "code",
   "execution_count": 3,
   "metadata": {
    "id": "31f48a15"
   },
   "outputs": [
    {
     "name": "stdout",
     "output_type": "stream",
     "text": [
      "Entrez un entier entre 2 et 12: 8\n",
      "Vous avez 3 façons de faire 8 en lançant deux dés.\n"
     ]
    }
   ],
   "source": [
    "n = 1\n",
    "cpt = 0\n",
    "\n",
    "while n < 2 or n >12 :\n",
    "    n = int(input(\"Entrez un entier entre 2 et 12: \"))\n",
    "    \n",
    "for i in range(1,7) :\n",
    "    for j in range(i,7) :\n",
    "        if i+j == n :\n",
    "            cpt+=1\n",
    "            \n",
    "print(\"Vous avez \" +str(cpt)+ \" façons de faire \" +str(n)+ \" en lançant deux dés.\")\n"
   ]
  },
  {
   "cell_type": "markdown",
   "metadata": {
    "id": "cead0c8f"
   },
   "source": [
    "**Exercice 15:** \n",
    "> **Utilisez la fonction d'entrée intégrée `input()` pour obtenir le `_prénom_`, le `_nom_`, le `_pays_d_origine` et l'`_age_` d'un utilisateur et stockez la valeur dans les noms des variables correspondantes.**"
   ]
  },
  {
   "cell_type": "code",
   "execution_count": 74,
   "metadata": {
    "id": "0a2694a9"
   },
   "outputs": [
    {
     "name": "stdout",
     "output_type": "stream",
     "text": [
      "Entrez prénom, nom, pays d'origine et âge: Géo Lmd Bénin 21\n",
      "Prénom: Géo\n",
      "Nom: Lmd\n",
      "Pays d'origine: Bénin\n",
      "Age: 21\n"
     ]
    }
   ],
   "source": [
    "ch = input(\"Entrez prénom, nom, pays d'origine et âge: \")\n",
    "l = ch.split(\" \")\n",
    "prenom = l[0]\n",
    "nom = l[1]\n",
    "pays = l[2]\n",
    "age = l[3]\n",
    "\n",
    "print(\"Prénom: \" +str(prenom))\n",
    "print(\"Nom: \" +str(nom))\n",
    "print(\"Pays d'origine: \" +str(pays))\n",
    "print(\"Age: \" +str(age))"
   ]
  },
  {
   "cell_type": "markdown",
   "metadata": {
    "id": "33240a56"
   },
   "source": [
    "**Exercice 16:** \n",
    "\n",
    "**Déclarer $5$ comme `num_one` et $4$ comme `num_two`**\n",
    "\n",
    "   1. Additionner `num_one` et `num_two` et affecter la valeur à une variable `totale`.\n",
    "   2. Soustraire `num_two` de `num_one` et affecter la valeur à une variable `diff`.\n",
    "   3. Multipliez le `num_one` et le `num_two` et attribuez la valeur à une variable `produit`.\n",
    "   4. Divisez le `num_one` par le `num_two` et attribuez la valeur à une variable `division`.\n",
    "   5. Calculez `num_one` à la puissance de `num_two` et attribuez la valeur à une variable `exp`."
   ]
  },
  {
   "cell_type": "code",
   "execution_count": 1,
   "metadata": {
    "id": "c2f3e814"
   },
   "outputs": [
    {
     "name": "stdout",
     "output_type": "stream",
     "text": [
      "totale = 9\n",
      "diff = 1\n",
      "produit = 20\n",
      "division = 1.25\n",
      "exp = 625\n"
     ]
    }
   ],
   "source": [
    "num_one = 5\n",
    "num_two = 4\n",
    "totale = num_one + num_two\n",
    "diff = num_one - num_two\n",
    "produit = num_one*num_two\n",
    "division = num_one/num_two\n",
    "exp = num_one**num_two\n",
    "print(\"totale = \"+str(totale)+ \"\\ndiff = \" +str(diff)+ \"\\nproduit = \" +str(produit)+ \"\\ndivision = \" +str(division)+ \"\\nexp = \" +str(exp))"
   ]
  },
  {
   "cell_type": "markdown",
   "metadata": {
    "id": "80763237"
   },
   "source": [
    "<center> <b> <span style=\"color:orange;\"> 🎉 FÉLICITATIONS! 🎉 </span> </b></center>"
   ]
  }
 ],
 "metadata": {
  "colab": {
   "collapsed_sections": [],
   "include_colab_link": true,
   "name": "In2Py_TP_01.ipynb",
   "provenance": []
  },
  "kernelspec": {
   "display_name": "Python 3",
   "language": "python",
   "name": "python3"
  },
  "language_info": {
   "codemirror_mode": {
    "name": "ipython",
    "version": 3
   },
   "file_extension": ".py",
   "mimetype": "text/x-python",
   "name": "python",
   "nbconvert_exporter": "python",
   "pygments_lexer": "ipython3",
   "version": "3.8.10"
  }
 },
 "nbformat": 4,
 "nbformat_minor": 5
}
