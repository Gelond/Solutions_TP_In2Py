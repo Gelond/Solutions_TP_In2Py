{
 "cells": [
  {
   "cell_type": "markdown",
   "metadata": {
    "colab_type": "text",
    "id": "view-in-github"
   },
   "source": [
    "<a href=\"https://colab.research.google.com/github/gabayae/colab-notebooks-in2py/blob/main/In2Py_TP_03.ipynb\" target=\"_parent\"><img src=\"https://colab.research.google.com/assets/colab-badge.svg\" alt=\"Open In Colab\"/></a>"
   ]
  },
  {
   "cell_type": "markdown",
   "metadata": {
    "id": "12_fdbLn8p4A"
   },
   "source": [
    "\n",
    "\n",
    "### <center> <b> <span style=\"color:blue;\"> Travaux Pratiques: Objets itérables ou conteneurs</span> </b></center>\n"
   ]
  },
  {
   "cell_type": "markdown",
   "metadata": {
    "id": "E_ZB23H68p4D"
   },
   "source": [
    "###  <center> <b> <span style=\"color:blue;\"> Listes </span> </b></center>"
   ]
  },
  {
   "cell_type": "markdown",
   "metadata": {
    "id": "H0cIcjGk8p4G"
   },
   "source": [
    "#### **Exercice 00:** \n",
    ">**Déclarer une liste vide.**"
   ]
  },
  {
   "cell_type": "code",
   "execution_count": 71,
   "metadata": {
    "colab": {
     "base_uri": "https://localhost:8080/"
    },
    "id": "45QEMilz8p4I",
    "outputId": "57f37201-144a-47a3-e0b3-98f739633dd8"
   },
   "outputs": [
    {
     "name": "stdout",
     "output_type": "stream",
     "text": [
      "[]\n"
     ]
    }
   ],
   "source": [
    "x=list()\n",
    "print(x)"
   ]
  },
  {
   "cell_type": "markdown",
   "metadata": {
    "id": "zZ0XnwpB8p4J"
   },
   "source": [
    "#### **Exercice 01:** \n",
    ">**Déclarer une liste de plus de 5 éléments.**"
   ]
  },
  {
   "cell_type": "code",
   "execution_count": 74,
   "metadata": {
    "colab": {
     "base_uri": "https://localhost:8080/"
    },
    "id": "HV32hLfA8p4L",
    "outputId": "2e6512ac-fc27-44ae-aedf-b72deb0c9453"
   },
   "outputs": [
    {
     "name": "stdout",
     "output_type": "stream",
     "text": [
      "[0, 1, 2, 3, 4, 5, 6]\n"
     ]
    }
   ],
   "source": [
    "x=list(range(0,7))\n",
    "print(x)"
   ]
  },
  {
   "cell_type": "markdown",
   "metadata": {
    "id": "tJpy6kNz8p4M"
   },
   "source": [
    "#### **Exercice 02:** \n",
    ">**Trouver la longueur de votre liste.**"
   ]
  },
  {
   "cell_type": "code",
   "execution_count": 75,
   "metadata": {
    "colab": {
     "base_uri": "https://localhost:8080/"
    },
    "id": "627A_RNw8p4O",
    "outputId": "9e39a0a0-a25f-4234-ff08-88d11eb6f96b"
   },
   "outputs": [
    {
     "data": {
      "text/plain": [
       "7"
      ]
     },
     "execution_count": 75,
     "metadata": {},
     "output_type": "execute_result"
    }
   ],
   "source": [
    "len(x)"
   ]
  },
  {
   "cell_type": "markdown",
   "metadata": {
    "id": "unFrwT5t8p4Q"
   },
   "source": [
    "#### **Exercice 03:** \n",
    ">**Obtenez le premier élément, l'élément central et le dernier élément de la liste.**\n",
    "\n"
   ]
  },
  {
   "cell_type": "code",
   "execution_count": 76,
   "metadata": {
    "colab": {
     "base_uri": "https://localhost:8080/"
    },
    "id": "MUuc1gaQ8p4R",
    "outputId": "ba6e79d3-7361-4cae-f4b3-dfa6e90772e6"
   },
   "outputs": [
    {
     "name": "stdout",
     "output_type": "stream",
     "text": [
      " 0\n",
      " 3\n",
      " 6\n"
     ]
    }
   ],
   "source": [
    "print('',x[0])\n",
    "print('',x[((len(x)-1)//2)])\n",
    "print('',x[-1])"
   ]
  },
  {
   "cell_type": "markdown",
   "metadata": {
    "id": "4Rqp8q0L8p4R"
   },
   "source": [
    "#### **Exercice 04:** \n",
    ">**Déclarez une liste appelée mixed_data_types, mettez votre (nom, âge, taille, état civil, adresse).**"
   ]
  },
  {
   "cell_type": "code",
   "execution_count": 82,
   "metadata": {
    "id": "EoZPW2UH8p4S"
   },
   "outputs": [
    {
     "name": "stdout",
     "output_type": "stream",
     "text": [
      "['Géo', 21, 1.6, 'Monsieur', 'Calavi']\n"
     ]
    }
   ],
   "source": [
    "mixed_data_types = list()\n",
    "\n",
    "mixed_data_types = [\"Géo\", 21, 1.6, \"Monsieur\", \"Calavi\"]\n",
    "\n",
    "print(mixed_data_types)\n"
   ]
  },
  {
   "cell_type": "markdown",
   "metadata": {
    "id": "OPYSNV1l8p4T"
   },
   "source": [
    "#### **Exercice 05:** \n",
    "\n",
    "    1. Déclarez une variable liste appelée it_companies et attribuez les valeurs initiales Facebook, Google, Microsoft, Apple, IBM, Oracle et Amazon.\n",
    "\n",
    "    2. Imprimez la liste à l'aide de print()\n",
    "\n",
    "    3. Imprimez le nombre d'entreprises dans la liste\n",
    "\n",
    "    4. Imprimez la première, la moyenne et la dernière entreprise\n",
    "\n",
    "    5. Imprimez la liste après avoir modifié l'une des entreprises.\n",
    "\n",
    "    6. Ajout d'une entreprise informatique à it_companies\n",
    "\n",
    "    7. Insérer une entreprise informatique au milieu de la liste des entreprises\n",
    "\n",
    "    8. Changez le nom d'une des it_companies en majuscule (sauf IBM !)\n",
    "\n",
    "    9. Joignez les it_companies avec une chaîne '# ; '.\n",
    "\n",
    "    10. Vérifier si une certaine entreprise existe dans la liste it_companies.\n",
    "\n",
    "    11. Trier la liste en utilisant la méthode sort()\n",
    "\n",
    "    12. Inversez la liste par ordre décroissant à l'aide de la méthode reverse().\n",
    "\n",
    "    13. Supprimez les 3 premières entreprises de la liste.\n",
    "\n",
    "    14. Supprimez les 3 dernières entreprises de la liste.\n",
    "\n",
    "    15. Supprimez la ou les entreprises informatiques du milieu de la liste.\n",
    "\n",
    "    16. Supprimez la première entreprise informatique de la liste\n",
    "\n",
    "    17. Supprimez la ou les entreprises informatiques du milieu de la liste.\n",
    "\n",
    "    18. Retirer la dernière entreprise informatique de la liste\n",
    "\n",
    "    19. Supprimez toutes les entreprises informatiques de la liste\n",
    "\n",
    "    20. Détruire la liste des entreprises informatiques"
   ]
  },
  {
   "cell_type": "code",
   "execution_count": 28,
   "metadata": {
    "id": "4M_XODba8p4V"
   },
   "outputs": [
    {
     "name": "stdout",
     "output_type": "stream",
     "text": [
      "La liste des entreprises est:\n",
      "\n",
      "['Facebook', 'Google', 'Microsoft', 'Apple', 'IBM', 'Oracle', 'Amazon']\n",
      "\n",
      "La longueur de la liste est: 7\n",
      "\n",
      "La première entreprise est Facebook\n",
      "\n",
      "La moyenne entreprise est Apple\n",
      "\n",
      "La dernière entreprise est Amazon\n",
      "\n",
      "La liste après avoir modifié la troisième entreprise est:\n",
      "\n",
      "['Facebook', 'Google', 'Whatsapp', 'Apple', 'IBM', 'Oracle', 'Amazon']\n",
      "\n",
      "La liste après avoir ajouté une entreprise informatique est:\n",
      "\n",
      "['Facebook', 'Google', 'Whatsapp', 'Apple', 'Skype', 'IBM', 'Oracle', 'Amazon']\n",
      "\n",
      "La liste après avoir ajouté une entreprise informatique au milieu est:\n",
      "\n",
      "['Facebook', 'Google', 'Whatsapp', 'Apple', 'Zoom', 'Skype', 'IBM', 'Oracle', 'Amazon']\n",
      "\n",
      "La liste après avoir changé en majuscule le nom d'une entreprise est:\n",
      "\n",
      "['Facebook', 'Google', 'Whatsapp', 'Apple', 'Zoom', 'Skype', 'IBM', 'Oracle', 'Amazon']\n",
      "\n",
      "La liste après l'avoir joigné les it_companies avec une chaîne '# ; ' est:\n",
      "\n",
      "['Facebook', 'Google', 'Whatsapp', 'Apple', 'Zoom', 'Skype', 'IBM', 'Oracle', 'Amazon', '# ; ']\n",
      "\n",
      "La liste après l'avoir trié avec la méthode sort() est:\n",
      "\n",
      "['Amazon', 'Apple', 'Facebook', 'Google', 'IBM', 'Oracle', 'Skype', 'Whatsapp', 'Zoom']\n",
      "\n",
      "La liste après l'avoir inversé avec la méthode reverse() est:\n",
      "\n",
      "['Zoom', 'Whatsapp', 'Skype', 'Oracle', 'IBM', 'Google', 'Facebook', 'Apple', 'Amazon']\n",
      "\n",
      "La liste après avoir supprimé les trois premières entreprises est:\n",
      "\n",
      "['Whatsapp', 'Oracle', 'Google', 'Facebook', 'Apple', 'Amazon']\n",
      "\n",
      "La liste après avoir supprimé les trois dernières entreprises est:\n",
      "\n",
      "['Whatsapp', 'Oracle', 'Google']\n",
      "\n",
      "La liste après avoir supprimé l'entreprises du milieu est:\n",
      "\n",
      "['Whatsapp', 'Google']\n",
      "\n",
      "La liste après avoir supprimé la première entreprise informatique est:\n",
      "\n",
      "['Google']\n",
      "\n",
      "La liste après avoir supprimé la dernière entreprise informatique est:\n",
      "\n",
      "[]\n",
      "\n",
      "La liste après avoir supprimé toutes les entreprises informatiques est:\n",
      "\n",
      "[]\n",
      "\n",
      "On essaie d'afficher la liste 'it_companies' après sa destruition.\n",
      "L'erreur suivante va nous montrer que la liste 'it_companies' n'est pas définie.\n"
     ]
    },
    {
     "ename": "NameError",
     "evalue": "name 'it_companies' is not defined",
     "output_type": "error",
     "traceback": [
      "\u001b[0;31m---------------------------------------------------------------------------\u001b[0m",
      "\u001b[0;31mNameError\u001b[0m                                 Traceback (most recent call last)",
      "\u001b[0;32m<ipython-input-28-d93d99abc22c>\u001b[0m in \u001b[0;36m<module>\u001b[0;34m\u001b[0m\n\u001b[1;32m     86\u001b[0m \u001b[0;32mdel\u001b[0m \u001b[0mit_companies\u001b[0m\u001b[0;34m\u001b[0m\u001b[0;34m\u001b[0m\u001b[0m\n\u001b[1;32m     87\u001b[0m \u001b[0mprint\u001b[0m\u001b[0;34m(\u001b[0m\u001b[0;34m\"\\nOn essaie d'afficher la liste 'it_companies' après sa destruition.\\nL'erreur suivante va nous montrer que la liste 'it_companies' n'est pas définie.\"\u001b[0m\u001b[0;34m)\u001b[0m\u001b[0;34m\u001b[0m\u001b[0;34m\u001b[0m\u001b[0m\n\u001b[0;32m---> 88\u001b[0;31m \u001b[0mprint\u001b[0m\u001b[0;34m(\u001b[0m\u001b[0mit_companies\u001b[0m\u001b[0;34m)\u001b[0m\u001b[0;34m\u001b[0m\u001b[0;34m\u001b[0m\u001b[0m\n\u001b[0m",
      "\u001b[0;31mNameError\u001b[0m: name 'it_companies' is not defined"
     ]
    }
   ],
   "source": [
    "it_companies = list()\n",
    "\n",
    "it_companies = [\"Facebook\", \"Google\", \"Microsoft\", \"Apple\", \"IBM\", \"Oracle\" , \"Amazon\"]\n",
    "\n",
    "print(\"La liste des entreprises est:\\n\\n\" +str(it_companies))\n",
    "\n",
    "print(\"\\nLa longueur de la liste est: \" +str(len(it_companies)))\n",
    "\n",
    "print(\"\\nLa première entreprise est \" +it_companies[0])\n",
    "\n",
    "print(\"\\nLa moyenne entreprise est \" +it_companies[len(it_companies)//2])\n",
    "\n",
    "print(\"\\nLa dernière entreprise est \" +it_companies[len(it_companies)-1])\n",
    "\n",
    "it_companies[2] = \"Whatsapp\"\n",
    "\n",
    "print(\"\\nLa liste après avoir modifié la troisième entreprise est:\\n\\n\" +str(it_companies))\n",
    "\n",
    "a = len(it_companies)\n",
    "\n",
    "it_companies.insert(4, \"Skype\")\n",
    "\n",
    "print(\"\\nLa liste après avoir ajouté une entreprise informatique est:\\n\\n\" +str(it_companies))\n",
    "\n",
    "a = len(it_companies)//2\n",
    "\n",
    "it_companies.insert(a, \"Zoom\")\n",
    "\n",
    "print(\"\\nLa liste après avoir ajouté une entreprise informatique au milieu est:\\n\\n\" +str(it_companies))\n",
    "\n",
    "for i in it_companies:\n",
    "    if i != \"IBM\":\n",
    "        i=i.upper()\n",
    "        break\n",
    "        \n",
    "#print(it_companies\n",
    "        \n",
    "print(\"\\nLa liste après avoir changé en majuscule le nom d'une entreprise est:\\n\\n\" +str(it_companies))\n",
    "\n",
    "ch = [\"# ; \"]\n",
    "\n",
    "print(\"\\nLa liste après l'avoir joigné les it_companies avec une chaîne '# ; ' est:\\n\\n\" +str(it_companies + ch))\n",
    "\n",
    "it_companies.sort()\n",
    "print(\"\\nLa liste après l'avoir trié avec la méthode sort() est:\\n\\n\" +str(it_companies))\n",
    "\n",
    "it_companies.reverse()\n",
    "print(\"\\nLa liste après l'avoir inversé avec la méthode reverse() est:\\n\\n\" +str(it_companies))\n",
    "\n",
    "for i in range(0,3):\n",
    "    it_companies.remove(it_companies[i])\n",
    "    \n",
    "print(\"\\nLa liste après avoir supprimé les trois premières entreprises est:\\n\\n\" +str(it_companies))\n",
    "\n",
    "i = 0\n",
    "\n",
    "while i < 3:\n",
    "    it_companies.remove(it_companies[-1])\n",
    "    i+=1\n",
    "    \n",
    "print(\"\\nLa liste après avoir supprimé les trois dernières entreprises est:\\n\\n\" +str(it_companies))\n",
    "\n",
    "it_companies.remove(it_companies[len(it_companies)//2])\n",
    "\n",
    "print(\"\\nLa liste après avoir supprimé l'entreprises du milieu est:\\n\\n\" +str(it_companies))\n",
    "\n",
    "for i in it_companies:\n",
    "    if i == \"Whatsapp\" or i == \"Google\" or i == \"Facebook\" or i == \"Microsoft\" or i == \"Apple\" :\n",
    "        it_companies.remove(i)\n",
    "        break\n",
    "\n",
    "print(\"\\nLa liste après avoir supprimé la première entreprise informatique est:\\n\\n\" +str(it_companies))\n",
    "\n",
    "for i in it_companies:\n",
    "    if i == \"Whatsapp\" or i == \"Google\" or i == \"Facebook\" or i == \"Microsoft\" or i == \"Apple\" :\n",
    "        it_companies.remove(i)\n",
    "        \n",
    "print(\"\\nLa liste après avoir supprimé la dernière entreprise informatique est:\\n\\n\" +str(it_companies))\n",
    "\n",
    "for i in it_companies:\n",
    "    if i == \"Whatsapp\" or i == \"Google\" or i == \"Facebook\" or i == \"Microsoft\" or i == \"Apple\" :\n",
    "        it_companies.remove(i)\n",
    "        \n",
    "print(\"\\nLa liste après avoir supprimé toutes les entreprises informatiques est:\\n\\n\" +str(it_companies))\n",
    "\n",
    "del it_companies\n",
    "print(\"\\nOn essaie d'afficher la liste 'it_companies' après sa destruition.\\nL'erreur suivante va nous montrer que la liste 'it_companies' n'est pas définie.\")\n",
    "print(it_companies)\n"
   ]
  },
  {
   "cell_type": "markdown",
   "metadata": {
    "id": "AfauolZA8p4V"
   },
   "source": [
    "#### **Exercice 06:** \n",
    "**Joindre les listes suivantes :**\n",
    "     \n",
    "         front_end = ['HTML', 'CSS', 'JS', 'React', 'Redux']  \n",
    "         back_end = ['Node','Express', 'MongoDB']"
   ]
  },
  {
   "cell_type": "code",
   "execution_count": 116,
   "metadata": {
    "colab": {
     "base_uri": "https://localhost:8080/"
    },
    "id": "6V8OXDSW8p4W",
    "outputId": "1b627109-6515-4c20-df97-d8bd6fa760f6"
   },
   "outputs": [
    {
     "name": "stdout",
     "output_type": "stream",
     "text": [
      " ['HTML', 'CSS', 'JS', 'React', 'Redux', 'Node', 'Express', 'MongoDB']\n"
     ]
    }
   ],
   "source": [
    "front_end = ['HTML', 'CSS', 'JS', 'React', 'Redux']\n",
    "\n",
    "back_end = ['Node','Express', 'MongoDB']\n",
    "\n",
    "front_end = front_end+back_end\n",
    "\n",
    "print('',front_end)"
   ]
  },
  {
   "cell_type": "markdown",
   "metadata": {
    "id": "kASFM1bh8p4X"
   },
   "source": [
    "#### **Exercice 07:** \n",
    "Voici une liste de 10 âges d'étudiants :\n",
    "\n",
    "         ages = [19, 22, 19, 24, 20, 25, 26, 24, 25, 24]\n",
    "         \n",
    " \n",
    "    1. Trier la liste et trouver l'âge minimum et maximum.\n",
    "    2. Ajoutez à nouveau l'âge minimum et l'âge maximum à la liste.\n",
    "    3. Trouvez l'âge médian (un élément du milieu ou deux éléments du milieu divisés par deux).\n",
    "    4. Trouvez l'âge moyen (somme de tous les éléments divisée par leur nombre).\n",
    "    4. Trouver l'intervalle des âges (max moins min)\n",
    "    5. Comparez les valeurs de (min - moyenne) et (max - moyenne) en utilisant la méthode abs().\n",
    "        "
   ]
  },
  {
   "cell_type": "code",
   "execution_count": 21,
   "metadata": {
    "colab": {
     "base_uri": "https://localhost:8080/"
    },
    "id": "TWTGGaOO8p4Z",
    "outputId": "d64f879c-1074-464a-cc60-23a7ae032b29"
   },
   "outputs": [
    {
     "name": "stdout",
     "output_type": "stream",
     "text": [
      "La liste:\n",
      "[19, 22, 19, 24, 20, 25, 26, 24, 25, 24]\n",
      "\n",
      "La liste après le tri:\n",
      "[19, 19, 20, 22, 24, 24, 24, 25, 25, 26]\n",
      "\n",
      "max = 26, min = 19\n",
      "\n",
      "La liste après avoir ajouté le minimum et le maximum:\n",
      "[19, 19, 20, 22, 24, 24, 24, 25, 25, 26, 19, 26]\n",
      "\n",
      "L'âge médian est: 24.0\n",
      "\n",
      "L'âge moyen est: 22.75\n",
      "\n",
      "L'intervalle des âges (max moins min) est: 7\n",
      "\n",
      "(min - moyenne) < (max - moyenne)\n"
     ]
    }
   ],
   "source": [
    "ages = [19, 22, 19, 24, 20, 25, 26, 24, 25, 24]\n",
    "\n",
    "print(\"La liste:\\n\" +str(ages))\n",
    "\n",
    "ages.sort()\n",
    "\n",
    "print(\"\\nLa liste après le tri:\\n\" +str(ages))\n",
    "\n",
    "print(\"\\nmax = {}, min = {}\".format(max(ages), min(ages)))\n",
    "\n",
    "mi = min(ages)\n",
    "ma = max(ages)\n",
    "\n",
    "ages.extend([mi,ma])\n",
    "\n",
    "print(\"\\nLa liste après avoir ajouté le minimum et le maximum:\\n\" +str(ages))\n",
    "\n",
    "if len(ages)%2==0:\n",
    "    a = len(ages)//2\n",
    "    print(\"\\nL'âge médian est: \" +str((ages[a-1]+ages[a])/2))\n",
    "    \n",
    "else:\n",
    "    a = len(ages)//2\n",
    "    print(\"\\nL'âge médian est: \" +str(ages[a]))\n",
    "\n",
    "moy = sum(ages)/len(ages)\n",
    "print(\"\\nL'âge moyen est: \" +str(moy))\n",
    "\n",
    "print(\"\\nL'intervalle des âges (max moins min) est: \" +str(ma-mi))\n",
    "\n",
    "if abs(min(ages)-moy)>abs(max(ages)-moy):\n",
    "    print(\"\\n(min - moyenne) < (max - moyenne)\")\n",
    "    \n",
    "else:\n",
    "    print(\"\\n(min - moyenne) > (max - moyenne)\")"
   ]
  },
  {
   "cell_type": "markdown",
   "metadata": {
    "id": "1f0X_hVGYbNB"
   },
   "source": []
  },
  {
   "cell_type": "markdown",
   "metadata": {
    "id": "bF7FI4iT8p4i"
   },
   "source": [
    "###  <center> <b> <span style=\"color:blue;\"> Dictionnaires </span> </b></center>"
   ]
  },
  {
   "cell_type": "markdown",
   "metadata": {
    "id": "VzcSJMf18p4j"
   },
   "source": [
    "\n",
    "1. Créer un dictionnaire vide appelé `dog`\n",
    "2. Ajoute le nom, la couleur, la race, les pattes, l'âge au dictionnaire dog.\n",
    "3. Créez un dictionnaire student et ajoutez le prénom, le nom, le sexe, l'âge, l'état civil, les compétences, le pays, la ville et l'adresse comme clés pour le dictionnaire.\n",
    "4. Obtenez la longueur du dictionnaire student\n",
    "5. Récupérez la valeur des compétences et vérifiez le type de données, il doit s'agir d'une liste.\n",
    "6. Modifiez les valeurs des compétences en ajoutant une ou deux compétences.\n",
    "7. Obtenez les clés du dictionnaire sous forme de liste\n",
    "8. Obtenir les valeurs du dictionnaire sous forme de liste\n",
    "9. Transformer le dictionnaire en une liste de tuples en utilisant la méthode items()\n",
    "10. Supprimer un des éléments du dictionnaire\n",
    "11. Supprimer un des dictionnaires\n"
   ]
  },
  {
   "cell_type": "code",
   "execution_count": 25,
   "metadata": {
    "colab": {
     "base_uri": "https://localhost:8080/"
    },
    "id": "LJ6DfBUh8p4k",
    "outputId": "725d0091-4c2c-4c6e-ee0a-3cc64c047c7b"
   },
   "outputs": [
    {
     "name": "stdout",
     "output_type": "stream",
     "text": [
      "{'nom': 'chat', 'couleur': 'grise', 'race': 'carni', 'pattes': 4, 'age': 6}\n",
      "\n",
      "{'prenom': 'chadrack', 'nom': 'bahati', 'sexe': 'M', 'etat civil': 'celibataire', 'competances': ['maths', 'politique', 'ecriture'], 'pays': 'RDC', 'adresse': 'Mbour'}\n",
      "\n",
      "La longueur du dictionnaire student est 7\n",
      "\n",
      "Le type de donnée de la valeur des compétences est:\n",
      "<class 'list'>\n",
      "\n",
      "Le dictionnaire student après avoir ajouté deux compétences:\n",
      "{'prenom': 'chadrack', 'nom': 'bahati', 'sexe': 'M', 'etat civil': 'celibataire', 'competances': ['maths', 'politique', 'ecriture', 'sapologie', 'chretien'], 'pays': 'RDC', 'adresse': 'Mbour'}\n",
      "\n",
      "Les clés du dictionnaire sous forme de liste:\n",
      "dict_keys(['prenom', 'nom', 'sexe', 'etat civil', 'competances', 'pays', 'adresse'])\n",
      "\n",
      "Les valeurs du dictionnaire sous forme de liste:\n",
      "dict_values(['chadrack', 'bahati', 'M', 'celibataire', ['maths', 'politique', 'ecriture', 'sapologie', 'chretien'], 'RDC', 'Mbour'])\n",
      "\n",
      "Le dictionnaire est transformé en une liste de tuples avec la méthode items()\n",
      "dict_items([('prenom', 'chadrack'), ('nom', 'bahati'), ('sexe', 'M'), ('etat civil', 'celibataire'), ('competances', ['maths', 'politique', 'ecriture', 'sapologie', 'chretien']), ('pays', 'RDC'), ('adresse', 'Mbour')])\n",
      "\n",
      "Le dictionnaire student après avoir supprimé les compétences:\n",
      "{'prenom': 'chadrack', 'nom': 'bahati', 'sexe': 'M', 'etat civil': 'celibataire', 'pays': 'RDC', 'adresse': 'Mbour'}\n"
     ]
    }
   ],
   "source": [
    "dog=dict()\n",
    "\n",
    "dog['nom'], dog['couleur'], dog['race'], dog['pattes'], dog['age'] = 'chat','grise','carni',4,6\n",
    "print(dog)\n",
    "\n",
    "student=dict()\n",
    "\n",
    "student={'prenom':'chadrack','nom':'bahati','sexe':'M','etat civil':'celibataire','competances':['maths','politique','ecriture'],'pays':'RDC','adresse':'Mbour'}\n",
    "\n",
    "print()\n",
    "\n",
    "print(student)\n",
    "\n",
    "print(\"\\nLa longueur du dictionnaire student est \" +str(len(student)))\n",
    "\n",
    "print(\"\\nLe type de donnée de la valeur des compétences est:\")\n",
    "print( type(student['competances']))\n",
    "\n",
    "student['competances'].extend(['sapologie','chretien'])\n",
    "\n",
    "print(\"\\nLe dictionnaire student après avoir ajouté deux compétences:\")\n",
    "print(student)\n",
    "\n",
    "print(\"\\nLes clés du dictionnaire sous forme de liste:\")\n",
    "print(student.keys())\n",
    "\n",
    "print(\"\\nLes valeurs du dictionnaire sous forme de liste:\")\n",
    "print(student.values())\n",
    "\n",
    "print(\"\\nLe dictionnaire est transformé en une liste de tuples avec la méthode items()\")\n",
    "print(student.items())\n",
    "\n",
    "del student['competances']\n",
    "print(\"\\nLe dictionnaire student après avoir supprimé les compétences:\")\n",
    "print(student)\n",
    "\n",
    "\n",
    "del dog"
   ]
  },
  {
   "cell_type": "code",
   "execution_count": null,
   "metadata": {
    "id": "rNdDqviE8p4l"
   },
   "outputs": [],
   "source": [
    "student={'prenom':'chadrack','nom':'bahati','sexe':'M','etat civil':'celibataire','competances':['maths','politique','ecriture'],'pays':'RDC','adresse':'Mbour'}\n",
    "len(student)\n",
    "type(student['competances'])\n",
    "student['competances'].extend(['sapologie','chretien'])\n",
    "student['competances']\n",
    "student.keys()\n",
    "student.values()\n",
    "student.items()\n",
    "\n",
    "dog\n",
    "del dog\n"
   ]
  },
  {
   "cell_type": "markdown",
   "metadata": {
    "id": "ugc1Itzb8p4l"
   },
   "source": [
    "<center> <b> <span style=\"color:orange;\"> 🎉 FÉLICITATIONS !🎉 </span> </b></center>"
   ]
  }
 ],
 "metadata": {
  "colab": {
   "collapsed_sections": [],
   "include_colab_link": true,
   "name": "In2Py_TP_03.ipynb",
   "provenance": []
  },
  "kernelspec": {
   "display_name": "Python 3",
   "language": "python",
   "name": "python3"
  },
  "language_info": {
   "codemirror_mode": {
    "name": "ipython",
    "version": 3
   },
   "file_extension": ".py",
   "mimetype": "text/x-python",
   "name": "python",
   "nbconvert_exporter": "python",
   "pygments_lexer": "ipython3",
   "version": "3.8.10"
  }
 },
 "nbformat": 4,
 "nbformat_minor": 1
}
