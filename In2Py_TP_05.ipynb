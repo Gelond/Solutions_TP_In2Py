{
 "cells": [
  {
   "cell_type": "markdown",
   "metadata": {
    "colab_type": "text",
    "id": "view-in-github"
   },
   "source": [
    "<a href=\"https://colab.research.google.com/github/gabayae/colab-notebooks-in2py/blob/main/In2Py_TP_05.ipynb\" target=\"_parent\"><img src=\"https://colab.research.google.com/assets/colab-badge.svg\" alt=\"Open In Colab\"/></a>"
   ]
  },
  {
   "cell_type": "markdown",
   "metadata": {
    "id": "QYZn2ujP9tcA"
   },
   "source": [
    "\n",
    "\n",
    "### <center> <b> <span style=\"color:blue;\"> Travaux Pratiques: Fonctions</span> </b></center>\n",
    "\n"
   ]
  },
  {
   "cell_type": "markdown",
   "metadata": {
    "id": "iMDzVKcl9tcE"
   },
   "source": [
    "#### **Exercice 00:**  \n",
    "> **Écrire une fonction `cube` qui retourne le cube de son argument.**"
   ]
  },
  {
   "cell_type": "code",
   "execution_count": 36,
   "metadata": {},
   "outputs": [
    {
     "name": "stdout",
     "output_type": "stream",
     "text": [
      "27\n"
     ]
    }
   ],
   "source": [
    "def cube(n):\n",
    "    \n",
    "    \"\"\"cette fonction calcule et retourne le cube de son argment\"\"\"\n",
    "    \n",
    "    return n*n*n\n",
    "\n",
    "\n",
    "print(cube(3))"
   ]
  },
  {
   "cell_type": "markdown",
   "metadata": {
    "id": "m1ac89qS9tcH"
   },
   "source": [
    "#### **Exercice 01:**  \n",
    "> **Déclarez une fonction `ajouter_deux_nombres`. Elle prend deux paramètres et renvoie leur somme.**"
   ]
  },
  {
   "cell_type": "code",
   "execution_count": 45,
   "metadata": {
    "id": "E_AgGmNy9tcH"
   },
   "outputs": [
    {
     "name": "stdout",
     "output_type": "stream",
     "text": [
      "13\n"
     ]
    }
   ],
   "source": [
    "def ajouter_deux_nombres(n, m):\n",
    "    \n",
    "    \"\"\"Elle prend deux paramètres et renvoie leur somme.\"\"\"\n",
    "    \n",
    "    return n+m\n",
    "\n",
    "print(ajouter_deux_nombres(5,8))\n"
   ]
  },
  {
   "cell_type": "markdown",
   "metadata": {
    "id": "PKjvAV4y9tcJ"
   },
   "source": [
    "#### **Exercice 02:**  \n",
    "> **L'aire d'un cercle se calcule comme suit : aire = pi x r x r avec pi=3,14. Écrivez une fonction `aire_du_cercle` qui prend le rayon en argument et calcule l'aire du cercle correspodant.**"
   ]
  },
  {
   "cell_type": "code",
   "execution_count": 3,
   "metadata": {
    "id": "AxGzHKXX9tcL"
   },
   "outputs": [
    {
     "name": "stdout",
     "output_type": "stream",
     "text": [
      "78.53981633974483\n"
     ]
    }
   ],
   "source": [
    "from math import pi\n",
    "\n",
    "def aire_du_cercle(r):\n",
    "    \n",
    "    \"\"\"Elle prend le rayon en argument et calcule l'aire du cercle correspodant.\"\"\"\n",
    "    \n",
    "    return pi*r*r\n",
    "\n",
    "print(aire_du_cercle(5))"
   ]
  },
  {
   "cell_type": "markdown",
   "metadata": {
    "id": "6OBRL3oj9tcL"
   },
   "source": [
    "#### **Exercice 03:**  \n",
    "> **La température en °C peut être convertie en °F à l'aide de cette formule : °F = (°C x 9/5) + 32. Écrivez une fonction `convert_celsius_en_fahrenheit` qui convertit les °C en °F**."
   ]
  },
  {
   "cell_type": "code",
   "execution_count": 6,
   "metadata": {
    "colab": {
     "base_uri": "https://localhost:8080/"
    },
    "id": "LpDPEBxn9tcN",
    "outputId": "7c62c4a2-828a-4eea-e995-a89e3acda0ed"
   },
   "outputs": [
    {
     "name": "stdout",
     "output_type": "stream",
     "text": [
      "Enter the value in celsius 30\n",
      "86.0°F\n"
     ]
    }
   ],
   "source": [
    "def convert_celsius_en_fahrenheit():\n",
    "    \n",
    "    \"\"\"Elle convertit les °C en °F\"\"\"\n",
    "    \n",
    "    C=float(input('Enter the value in celsius '))\n",
    "    F=(C*9/5)+32\n",
    "    return F\n",
    "\n",
    "\n",
    "print(str(convert_celsius_en_fahrenheit())+ \"°F\")\n"
   ]
  },
  {
   "cell_type": "markdown",
   "metadata": {
    "id": "rJRPsZ2h9tcP"
   },
   "source": [
    "#### **Exercice 04:** \n",
    ">**Écrire une fonction somme avec un argument « tuple de longueur variable » qui calcule la somme des nombres contenus dans le tuple.Tester cette fonction par des appels avec différents tuples d’entiers ou de flottants.**"
   ]
  },
  {
   "cell_type": "code",
   "execution_count": 35,
   "metadata": {
    "colab": {
     "base_uri": "https://localhost:8080/"
    },
    "id": "7qn8Czdc9tcP",
    "outputId": "998d9d34-3e4c-4a64-f02e-9faa0ff36abe"
   },
   "outputs": [
    {
     "name": "stdout",
     "output_type": "stream",
     "text": [
      "31\n",
      "88.25\n"
     ]
    }
   ],
   "source": [
    "\n",
    "def somme(tpl):\n",
    "    \n",
    "    \"\"\"Elle prend en argumennt un tuple et calcule la somme des nombres contenus dans le tuple.\"\"\"\n",
    "    \n",
    "    sum = 0\n",
    "    for i in tpl:\n",
    "        sum+=i\n",
    "    return sum\n",
    "        \n",
    "        \n",
    "t1 = [2,5,8,7,9]\n",
    "t2 = [2.5,4.5,80.5,0.75]\n",
    "\n",
    "print(somme_liste(t1))\n",
    "print(somme_liste(t2))\n"
   ]
  },
  {
   "cell_type": "markdown",
   "metadata": {
    "id": "kls1kYNh9tcR"
   },
   "source": [
    "#### **Exercice 05:** \n",
    ">**Ecrire `somme_liste` qui calcule la somme des nombres contenus dans une liste.Tester cette fonction par des appels avec différents listes d’entiers ou de flottants.**"
   ]
  },
  {
   "cell_type": "code",
   "execution_count": 21,
   "metadata": {},
   "outputs": [
    {
     "name": "stdout",
     "output_type": "stream",
     "text": [
      "31\n",
      "88.25\n"
     ]
    }
   ],
   "source": [
    "def somme_liste(l):\n",
    "    \n",
    "    \"\"\"Elle prend une liste en argument et retourne après avoir calculé la somme des nombres contenus dans cette liste\"\"\"\n",
    "    \n",
    "    sum = 0\n",
    "    for i in l:\n",
    "        sum+=i\n",
    "    return sum\n",
    "        \n",
    "        \n",
    "l1 = (2,5,8,7,9)\n",
    "l2 = (2.5,4.5,80.5,0.75)\n",
    "\n",
    "print(somme_liste(l1))\n",
    "print(somme_liste(l2))"
   ]
  },
  {
   "cell_type": "markdown",
   "metadata": {
    "id": "l4gQECfk9tcS"
   },
   "source": [
    "#### **Exercice 06:** \n",
    ">**Écrire une fonction somme qui  prend en argument un entier $n$ et retourne la somme  des $n$-prémiers entiers naturels.**"
   ]
  },
  {
   "cell_type": "code",
   "execution_count": 18,
   "metadata": {},
   "outputs": [
    {
     "name": "stdout",
     "output_type": "stream",
     "text": [
      "10\n"
     ]
    }
   ],
   "source": [
    "def somme(n):\n",
    "    \n",
    "    \"\"\"Elle prend en argument un entier n et retourne la somme des n-prémiers entiers naturels\"\"\"\n",
    "    \n",
    "    if n < 0:\n",
    "        print(\"le nombre est négatif.\")\n",
    "        \n",
    "    elif n == 0:\n",
    "        return 0\n",
    "    else:\n",
    "        sum = 0\n",
    "        for i in range(1,n):\n",
    "            sum+=i\n",
    "            \n",
    "        return sum\n",
    "        \n",
    "print(somme(5))"
   ]
  },
  {
   "cell_type": "markdown",
   "metadata": {
    "id": "tK9EsjZf9tcU"
   },
   "source": [
    "#### **Exercice 07:** \n",
    ">**Écrire une fonction `nom` qui demande à l'utilisateur d'entrer son nom ensuite son prénom et affiche son prénom suivit de son nom.**"
   ]
  },
  {
   "cell_type": "code",
   "execution_count": 15,
   "metadata": {},
   "outputs": [
    {
     "name": "stdout",
     "output_type": "stream",
     "text": [
      "Entrez votre nom: LONMADON\n",
      "Entrez votre prenom: Géofroid\n",
      "Géofroid LONMADON\n"
     ]
    }
   ],
   "source": [
    "def nom():\n",
    "    \n",
    "    \"\"\"Elle demande à l'utilisateur d'entrer son nom ensuite son prénom et affiche son prénom suivit de son nom.\"\"\"\n",
    "    \n",
    "    name = input(\"Entrez votre nom: \")\n",
    "    prenom = input(\"Entrez votre prenom: \")\n",
    "    \n",
    "    print(prenom + \" \" +name)\n",
    "    \n",
    "nom()"
   ]
  },
  {
   "cell_type": "markdown",
   "metadata": {
    "id": "YSwrwcEz9tcX"
   },
   "source": [
    "#### **Exercice 08:** \n",
    ">**Écrire une fonction `nom` qui demande à l'utilisateur d'entrer son nom ensuite son prénom et affiche son prénom suivit de son nom.**"
   ]
  },
  {
   "cell_type": "code",
   "execution_count": 14,
   "metadata": {
    "id": "mRk-8h1P9tcZ"
   },
   "outputs": [
    {
     "name": "stdout",
     "output_type": "stream",
     "text": [
      "Entrez votre nom: LMD\n",
      "Entrez votre prenom: Géo\n",
      "Géo LMD\n"
     ]
    }
   ],
   "source": [
    "def nom():\n",
    "    \n",
    "    \"\"\"Elle demande à l'utilisateur d'entrer son nom ensuite son prénom et affiche son prénom suivit de son nom.\"\"\"\n",
    "    \n",
    "    name = input(\"Entrez votre nom: \")\n",
    "    prenom = input(\"Entrez votre prenom: \")\n",
    "    \n",
    "    print(prenom + \" \" +name)\n",
    "    \n",
    "nom()"
   ]
  },
  {
   "cell_type": "markdown",
   "metadata": {
    "id": "VYtzHXAd9tck"
   },
   "source": [
    "#### **Exercice 09:** \n",
    ">**Ecris une fonction `Maximum` qui renvoie le minimum de trois nombres.**"
   ]
  },
  {
   "cell_type": "code",
   "execution_count": 24,
   "metadata": {},
   "outputs": [
    {
     "name": "stdout",
     "output_type": "stream",
     "text": [
      "5\n"
     ]
    }
   ],
   "source": [
    "def Maximum(a,b,c):\n",
    "    \n",
    "    \"\"\"Elle prend trois nombres en argument et renvoie le minimum des trois nombres.\"\"\"\n",
    "    \n",
    "    min = a\n",
    "    if min > b:\n",
    "        min = b\n",
    "        if min > c:\n",
    "            min = c\n",
    "            \n",
    "    return min\n",
    "\n",
    "print(Maximum(10,5,25))"
   ]
  },
  {
   "cell_type": "markdown",
   "metadata": {
    "id": "gTpTAnGm9tcm"
   },
   "source": [
    "#### **Exercice 10:**\n",
    ">**Soit $f(x)=ax^2+bx+c$ un trinôme du second degré.**\n",
    " 1. **Ecris une fonction `Discriminant` qui calcule son discriminant.**\n",
    " 2. **Ecris ensuite une fonction `existence_des_racines_du_trinome` qui discute suivant les valeurs du discriminant, l'existence de ses racines.** \n"
   ]
  },
  {
   "cell_type": "code",
   "execution_count": 26,
   "metadata": {},
   "outputs": [
    {
     "name": "stdout",
     "output_type": "stream",
     "text": [
      "Entrez le poremier coéfficient: 1\n",
      "Entrez le deuxième coéfficient: -3\n",
      "Entrez le troisième coéfficient: 5\n",
      "Le discriminant est inférieur à 0, l'équation n'admet pas de solutions réelles.\n"
     ]
    }
   ],
   "source": [
    "def Discriminant():\n",
    "    \n",
    "    \"\"\"Elle calcule le discriminant d'un trinôme du second degré.\"\"\"\n",
    "    \n",
    "    a = input(\"Entrez le poremier coéfficient: \")\n",
    "    b = input(\"Entrez le deuxième coéfficient: \")\n",
    "    c = input(\"Entrez le troisième coéfficient: \")\n",
    "    \n",
    "    a = float(a)\n",
    "    b = float(b)\n",
    "    c = float(c)\n",
    "    \n",
    "    d = b*b - 4*a*c\n",
    "    \n",
    "    return d\n",
    "\n",
    "def existence_des_racines_du_trinome(d):\n",
    "    \n",
    "    \"\"\"Elle discute suivant les valeurs du discriminant, l'existence de ses racines d'un polynôme.\"\"\"\n",
    "    \n",
    "    if d < 0:\n",
    "        print(\"Le discriminant est inférieur à 0, l'équation n'admet pas de solutions réelles.\")\n",
    "        \n",
    "    elif d > 0:\n",
    "        print(\"Le discriminant est supérieur à 0, l'équation admet deux solutions réelles.\")\n",
    "        \n",
    "    else:\n",
    "        print(\"Le discriminant est nul, l'équation admet une double solutions réelles.\")\n",
    "        \n",
    "\n",
    "existence_des_racines_du_trinome(Discriminant())"
   ]
  },
  {
   "cell_type": "markdown",
   "metadata": {
    "id": "WgJ06GHA9tcn"
   },
   "source": [
    "#### **Exercice 11:**\n",
    ">**Ecris une fonction qui affiche le reste de la division euclidienne d'un entier naturel $a$ par un entier naturel $b$**.\n"
   ]
  },
  {
   "cell_type": "code",
   "execution_count": 29,
   "metadata": {
    "id": "S1uM-Jca9tcn"
   },
   "outputs": [
    {
     "name": "stdout",
     "output_type": "stream",
     "text": [
      "Entrez un entier naturel: 14\n",
      "Entrez un entier naturel(le diviseur): 3\n",
      "Le reste de la division euclidienne de 14 par 3 est: 2\n"
     ]
    }
   ],
   "source": [
    "def division_euclidienne():\n",
    "    \n",
    "    \"\"\"Elle affiche le reste de la division euclidienne d'un entier naturel a par un entier naturel b.\"\"\"\n",
    "    \n",
    "    a = input(\"Entrez un entier naturel: \")\n",
    "    a = int(a)\n",
    "    b = a +15\n",
    "    while b > a:\n",
    "        b = input(\"Entrez un entier naturel(le diviseur): \")\n",
    "        b = int(b)\n",
    "        \n",
    "    if a != 0 and b == 0:\n",
    "        print(\"Erreur, division par zero!!\")\n",
    "        \n",
    "    else:\n",
    "        print(\"Le reste de la division euclidienne de \" +str(a)+ \" par \" +str(b)+ \" est: \" +str(a%b))\n",
    "    \n",
    "\n",
    "division_euclidienne()"
   ]
  },
  {
   "cell_type": "markdown",
   "metadata": {
    "id": "dtC_cOVJ9tco"
   },
   "source": [
    "#### **Exercice 12:**\n",
    ">**Ecris une fonction `terme_suite_geometrique` qui affiche le n-ième terme d'une suite géométrique $(v_n)$ de premier terme $v_0$ et de raison $q$. Teste ce programme pour $v_0=2, q=3$ et $n=4$.**"
   ]
  },
  {
   "cell_type": "code",
   "execution_count": 48,
   "metadata": {
    "id": "TeLDRV8N9tco"
   },
   "outputs": [
    {
     "name": "stdout",
     "output_type": "stream",
     "text": [
      "Entrez le premier terme de la suite géométrique (vn): 2\n",
      "Entrez la raison de la suite géométrique (vn): 3\n",
      "Entrez un entier naturel: 4\n",
      "Le 4-ième terme de la suite géométrique (vn) est: 162.0\n"
     ]
    }
   ],
   "source": [
    "def terme_suite_geometrique(n, v0, q):\n",
    "    \n",
    "    \"\"\"Elle affiche le n-ième terme d'une suite géométrique (vn) de premier terme v0 et de raison q\"\"\"\n",
    "    \n",
    "    vn = v0*pow(q,n)\n",
    "    \n",
    "    print(\"Le \" +str(n)+ \"-ième terme de la suite géométrique (vn) est: \" +str(vn))\n",
    "    \n",
    "\n",
    "v0 = input(\"Entrez le premier terme de la suite géométrique (vn): \")\n",
    "v0 = float(v0)\n",
    "\n",
    "q = input(\"Entrez la raison de la suite géométrique (vn): \")\n",
    "q = float(q)\n",
    "\n",
    "n = -1\n",
    "while n < 0:\n",
    "    n = input(\"Entrez un entier naturel: \")\n",
    "    n = int(n)\n",
    "    \n",
    "terme_suite_geometrique(n, v0, q)"
   ]
  },
  {
   "cell_type": "markdown",
   "metadata": {
    "id": "GrmGuHwu9tco"
   },
   "source": [
    "#### **Exercice 13:**\n",
    ">**Écris une fonction `merci` prend en paramètre un `nom` et renvoie le message \"Merci pour votre présence à cet atelier,`nom`.**\n"
   ]
  },
  {
   "cell_type": "code",
   "execution_count": 31,
   "metadata": {},
   "outputs": [
    {
     "name": "stdout",
     "output_type": "stream",
     "text": [
      "Entrez un nom: Gelond\n",
      "Merci pour votre présence à cet atelier ,Gelond\n"
     ]
    }
   ],
   "source": [
    "def merci(nom):\n",
    "    \n",
    "    \"\"\"Elle prend en paramètre un nom et renvoie le message \"Merci pour votre présence à cet atelier,nom.\"\"\"\n",
    "    \n",
    "    print(\"Merci pour votre présence à cet atelier ,\" +nom)\n",
    "    \n",
    "nom = input(\"Entrez un nom: \")\n",
    "\n",
    "merci(nom)"
   ]
  },
  {
   "cell_type": "markdown",
   "metadata": {
    "id": "T3jopRLc9tco"
   },
   "source": [
    "#### **Exercice 14:**\n",
    ">**Écris une fonction `ma_suite` qui définit la suite $(u_n)$ telle que  $$u_{n}=\\frac{2n^2+3n-1}{n+6}.$$\n",
    "Affiche son 5e terme.**\n"
   ]
  },
  {
   "cell_type": "code",
   "execution_count": 49,
   "metadata": {
    "id": "P1l82riw9tcp"
   },
   "outputs": [
    {
     "name": "stdout",
     "output_type": "stream",
     "text": [
      "Le 4-ième terme de la suite (un) est: 4.3\n"
     ]
    }
   ],
   "source": [
    "def ma_suite(n):\n",
    "    \n",
    "    \"\"\"Elle prend en argument un entier naturel et affiche le n-ème terme de la suite (un) définit par un = (2n²+3n−1)/(n+6).\"\"\"\n",
    "    \n",
    "    u = (2*n*n + 3*n - 1)/(n + 6)\n",
    "    return u\n",
    "\n",
    "n = 4\n",
    "\n",
    "print(\"Le \" +str(n)+ \"-ième terme de la suite (un) est: \" +str(ma_suite(n)))\n"
   ]
  },
  {
   "cell_type": "markdown",
   "metadata": {
    "id": "SIizzU_A9tcp"
   },
   "source": [
    "\n",
    "\n",
    "<center> <b> <span style=\"color:orange;\"> 🎉 FÉLICITATIONS ! 🎉 </span> </b></center>"
   ]
  }
 ],
 "metadata": {
  "colab": {
   "collapsed_sections": [],
   "include_colab_link": true,
   "name": "In2Py_TP_05.ipynb",
   "provenance": []
  },
  "kernelspec": {
   "display_name": "Python 3",
   "language": "python",
   "name": "python3"
  },
  "language_info": {
   "codemirror_mode": {
    "name": "ipython",
    "version": 3
   },
   "file_extension": ".py",
   "mimetype": "text/x-python",
   "name": "python",
   "nbconvert_exporter": "python",
   "pygments_lexer": "ipython3",
   "version": "3.8.10"
  }
 },
 "nbformat": 4,
 "nbformat_minor": 5
}
