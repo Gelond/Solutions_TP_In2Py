{
 "cells": [
  {
   "cell_type": "markdown",
   "metadata": {},
   "source": [
    "Exercice 1:"
   ]
  },
  {
   "cell_type": "code",
   "execution_count": 8,
   "metadata": {},
   "outputs": [
    {
     "name": "stdout",
     "output_type": "stream",
     "text": [
      "Entrez un entier non nul: 1\n",
      "La somme est 0\n",
      "Le produit est 3\n"
     ]
    }
   ],
   "source": [
    "somme = 0\n",
    "produit = 1\n",
    "n = -1\n",
    "\n",
    "while n < 0 :\n",
    "    n = input(\"Entrez un entier non nul: \")\n",
    "    n = int(n)\n",
    "\n",
    "for i in range(0,n) :\n",
    "    if i%2 != 0 :\n",
    "        somme += (i+3)\n",
    "        \n",
    "    else:\n",
    "        produit *= (i+3)\n",
    "\n",
    "print(\"La somme est \" +str(somme))\n",
    "print(\"Le produit est \" +str(produit))\n"
   ]
  },
  {
   "cell_type": "markdown",
   "metadata": {},
   "source": [
    "Exercice 2:"
   ]
  },
  {
   "cell_type": "code",
   "execution_count": 11,
   "metadata": {},
   "outputs": [
    {
     "name": "stdout",
     "output_type": "stream",
     "text": [
      "Entrez un entier naturel (entre 0 et 6): 6\n",
      "Weekend\n"
     ]
    }
   ],
   "source": [
    "n = -1\n",
    "\n",
    "while n < 0 or n > 6:\n",
    "    n = input(\"Entrez un entier naturel (entre 0 et 6): \")\n",
    "    n = int(n)\n",
    "\n",
    "if n == 0 :\n",
    "    print(\"Lundi\")\n",
    "elif n == 1 :\n",
    "    print(\"Mardi\")\n",
    "elif n == 2 :\n",
    "    print(\"Mercredi\")\n",
    "elif n == 3 :\n",
    "    print(\"Jeudi\")\n",
    "elif n == 4 :\n",
    "    print(\"Vendredi\")\n",
    "else:\n",
    "    print(\"Weekend\")"
   ]
  },
  {
   "cell_type": "markdown",
   "metadata": {},
   "source": [
    "Exercice 3:"
   ]
  },
  {
   "cell_type": "code",
   "execution_count": 12,
   "metadata": {},
   "outputs": [
    {
     "name": "stdout",
     "output_type": "stream",
     "text": [
      "Entrez un entier naturel (entre 0 et 11): 0\n",
      "Janvier 31 compte \n"
     ]
    }
   ],
   "source": [
    "n = -1\n",
    "\n",
    "while n < 0 or n > 11:\n",
    "    n = input(\"Entrez un entier naturel (entre 0 et 11): \")\n",
    "    n = int(n)\n",
    "\n",
    "if n == 0 :\n",
    "    print(\"Janvier compte 31 jours\")\n",
    "elif n == 1 :\n",
    "    print(\"Février compte 28 jours\")\n",
    "elif n == 2 :\n",
    "    print(\"Mars compte 31 jours\")\n",
    "elif n == 3 :\n",
    "    print(\"Avril compte 30 jours\")\n",
    "elif n == 4 :\n",
    "    print(\"Mai compte 31 jours\")\n",
    "elif n == 5 :\n",
    "    print(\"Juin compte 30 jours\")\n",
    "elif n == 6 :\n",
    "    print(\"Jueillet compte 31 jours\")\n",
    "elif n == 7:\n",
    "    print(\"Août compte 31 jours\")\n",
    "elif n == 8 :\n",
    "    print(\"Septemble compte 30 jours\")\n",
    "elif n == 9:\n",
    "    print(\"Octorbre compte 31 jours\")\n",
    "elif n == 10:\n",
    "    print(\"Novembre compte 30 jours\")\n",
    "\n",
    "\n",
    "else:\n",
    "    print(\"Decembre compte 31 jours\")"
   ]
  },
  {
   "cell_type": "markdown",
   "metadata": {},
   "source": [
    "Exerxice"
   ]
  },
  {
   "cell_type": "code",
   "execution_count": 2,
   "metadata": {},
   "outputs": [
    {
     "name": "stdout",
     "output_type": "stream",
     "text": [
      "Géofroid\n",
      "Géofroid\n",
      "Géofroid\n",
      "\n",
      "\n",
      "\n",
      "Géofroid\n",
      "Géofroid\n",
      "Géofroid\n"
     ]
    }
   ],
   "source": [
    "for i in range(0,3):\n",
    "    print(\"Géofroid\")\n",
    "\n",
    "print(\"\\n\\n\")\n",
    "i = 0\n",
    "\n",
    "while i < 3 :\n",
    "    print(\"Géofroid\")\n",
    "    i+=1"
   ]
  },
  {
   "cell_type": "markdown",
   "metadata": {},
   "source": [
    "Exercice 5:"
   ]
  },
  {
   "cell_type": "code",
   "execution_count": 7,
   "metadata": {},
   "outputs": [
    {
     "name": "stdout",
     "output_type": "stream",
     "text": [
      "Entrez un entier naturel non nul: 0\n",
      "Entrez un entier naturel non nul: 1\n",
      "a0 = 0\n",
      "a1 = 1\n",
      "a2 = 2\n",
      "a3 = 3\n",
      "a4 = 5\n",
      "a5 = 8\n",
      "a6 = 13\n",
      "a7 = 21\n",
      "a8 = 34\n",
      "a9 = 55\n",
      "a10 = 89\n",
      "a11 = 144\n",
      "a12 = 233\n",
      "a13 = 377\n",
      "a14 = 610\n"
     ]
    }
   ],
   "source": [
    "a0 = -1\n",
    "\n",
    "while a0 < 0 :\n",
    "    a0 = input(\"Entrez un entier naturel non nul: \")\n",
    "    a0 = int(a0)\n",
    "\n",
    "a1 = -1\n",
    "\n",
    "while a1 < 0 :\n",
    "    a1 = input(\"Entrez un entier naturel non nul: \")\n",
    "    a1 = int(a1)\n",
    "\n",
    "b = 0\n",
    "\n",
    "print(\"a0 = \" +str(a0))\n",
    "\n",
    "while b < 15-1 :\n",
    "    (a0,a1,b) = (a1, a0 + a1, b)\n",
    "    print(\"a\" +str(b+1)+ \" = \" +str(a1))\n",
    "    b+=1"
   ]
  },
  {
   "cell_type": "markdown",
   "metadata": {},
   "source": [
    "Exercice 6:"
   ]
  },
  {
   "cell_type": "code",
   "execution_count": 9,
   "metadata": {},
   "outputs": [
    {
     "name": "stdout",
     "output_type": "stream",
     "text": [
      "Entrez un entier naturel non nul: 0\n",
      "Entrez un entier naturel non nul: 1\n",
      "x0 = 0\n",
      "x1 = 1\n",
      "x2 = 0.5\n",
      "x3 = 3.25\n",
      "x4 = 3.125\n",
      "x5 = 11.3125\n",
      "x6 = 15.03125\n",
      "x7 = 41.453125\n",
      "x8 = 65.8203125\n",
      "x9 = 157.26953125\n",
      "x10 = 276.095703125\n",
      "x11 = 609.8564453125\n",
      "x12 = 1133.21533203125\n",
      "x13 = 2396.177001953125\n",
      "x14 = 4597.7344970703125\n",
      "x15 = 9487.398254394531\n",
      "x16 = 18536.902618408203\n",
      "x17 = 37730.646072387695\n",
      "x18 = 74476.03089141846\n",
      "x19 = 150429.9536628723\n",
      "x20 = 298643.0695056915\n",
      "x21 = 600611.3957414627\n",
      "x22 = 1196234.906387806\n",
      "x23 = 2399951.640418291\n",
      "x24 = 4788680.539372563\n",
      "x25 = 9594195.190941155\n",
      "x26 = 19163139.213588268\n",
      "x27 = 38364155.1796176\n",
      "x28 = 76671495.2305736\n",
      "x29 = 153428213.15413958\n"
     ]
    }
   ],
   "source": [
    "x0 = -1\n",
    "\n",
    "while x0 < 0 :\n",
    "    x0 = input(\"Entrez un entier naturel non nul: \")\n",
    "    x0 = int(x0)\n",
    "\n",
    "x1 = -1\n",
    "\n",
    "while x1 < 0 :\n",
    "    x1 = input(\"Entrez un entier naturel non nul: \")\n",
    "    x1 = int(x1)\n",
    "\n",
    "b = 0\n",
    "\n",
    "print(\"x0 = \" +str(x0))\n",
    "print(\"x1 = \" +str(x1))\n",
    "\n",
    "while b < 30-2 :\n",
    "    (x0,x1,b) = (x1, (x1 + 6*x0)/2 , b)\n",
    "    print(\"x\" +str(b+2)+ \" = \" +str(x1))\n",
    "    b+=1"
   ]
  },
  {
   "cell_type": "markdown",
   "metadata": {},
   "source": [
    "Exercice 7:"
   ]
  },
  {
   "cell_type": "markdown",
   "metadata": {},
   "source": [
    "Exercice 7.a"
   ]
  },
  {
   "cell_type": "code",
   "execution_count": 12,
   "metadata": {},
   "outputs": [
    {
     "name": "stdout",
     "output_type": "stream",
     "text": [
      "Entrez une année: 2012\n",
      "2012 est une année bissextile.\n"
     ]
    }
   ],
   "source": [
    "a = input(\"Entrez une année: \")\n",
    "\n",
    "a = int(a)\n",
    "\n",
    "if a%4 != 0 :\n",
    "        print(a , \"n'est pas une année bissextile.\")\n",
    "\n",
    "else :\n",
    "    if a%100 == 0 :\n",
    "        if a%400 == 0 :\n",
    "            print(a , \"est une année bissextile.\")\n",
    "\n",
    "        else :\n",
    "            print(a , \"n'est pas une année bissextile.\")\n",
    "    else :\n",
    "        print(a , \"est une année bissextile.\")"
   ]
  },
  {
   "cell_type": "markdown",
   "metadata": {},
   "source": [
    "Exercice 7.b"
   ]
  },
  {
   "cell_type": "code",
   "execution_count": null,
   "metadata": {},
   "outputs": [],
   "source": [
    "a = input(\"Entrez une année: \")\n",
    "\n",
    "a = int(a)\n"
   ]
  },
  {
   "cell_type": "markdown",
   "metadata": {},
   "source": [
    "Exercice 8:"
   ]
  },
  {
   "cell_type": "markdown",
   "metadata": {},
   "source": [
    "Exercice 8.a.1 :"
   ]
  },
  {
   "cell_type": "code",
   "execution_count": 1,
   "metadata": {},
   "outputs": [
    {
     "name": "stdout",
     "output_type": "stream",
     "text": [
      "Entrez un entier naturel non nul: 5\n",
      "La somme des carrés des 5 premiers nombres naturels est 30\n"
     ]
    }
   ],
   "source": [
    "n = -1\n",
    "\n",
    "while n < 0 :\n",
    "    n = input(\"Entrez un entier naturel non nul: \")\n",
    "    n = int(n)\n",
    "    \n",
    "sum = 0\n",
    "\n",
    "for i in range(0,n):\n",
    "    sum+=i*i\n",
    "\n",
    "print(\"La somme des carrés des \" +str(n)+ \" premiers nombres naturels est \" +str(sum))\n"
   ]
  },
  {
   "cell_type": "markdown",
   "metadata": {},
   "source": [
    "Exercice 8.a.2 :"
   ]
  },
  {
   "cell_type": "code",
   "execution_count": 2,
   "metadata": {},
   "outputs": [
    {
     "name": "stdout",
     "output_type": "stream",
     "text": [
      "Entrez un entier naturel non nul: 5\n",
      "La somme des carrés des 5 premiers nombres naturels est 30\n"
     ]
    }
   ],
   "source": [
    "n = -1\n",
    "\n",
    "while n < 0 :\n",
    "    n = input(\"Entrez un entier naturel non nul: \")\n",
    "    n = int(n)\n",
    "    \n",
    "sum = 0\n",
    "i = 0\n",
    "while i < n:\n",
    "    sum+=i*i\n",
    "    i+=1\n",
    "\n",
    "print(\"La somme des carrés des \" +str(n)+ \" premiers nombres naturels est \" +str(sum))\n"
   ]
  },
  {
   "cell_type": "markdown",
   "metadata": {},
   "source": [
    "Exercice 8.b :"
   ]
  },
  {
   "cell_type": "code",
   "execution_count": 3,
   "metadata": {},
   "outputs": [
    {
     "name": "stdout",
     "output_type": "stream",
     "text": [
      "Entrez un entier naturel non nul: 5\n",
      "Le plus petit entier est 2\n"
     ]
    }
   ],
   "source": [
    "M = -1\n",
    "\n",
    "while M < 0 :\n",
    "    M = input(\"Entrez un entier naturel non nul: \")\n",
    "    M = int(M)\n",
    "    \n",
    "n = 0\n",
    "sum = 0\n",
    "\n",
    "while sum < M :\n",
    "    n+=1\n",
    "    sum = 0\n",
    "    for i in range(0,n+1):\n",
    "        sum+=i*i\n",
    "        \n",
    "print(\"Le plus petit entier est \" +str(n))\n",
    "    "
   ]
  },
  {
   "cell_type": "markdown",
   "metadata": {},
   "source": [
    "Exrecice 9 :"
   ]
  },
  {
   "cell_type": "markdown",
   "metadata": {},
   "source": [
    "Exercice 9.a :"
   ]
  },
  {
   "cell_type": "code",
   "execution_count": 4,
   "metadata": {},
   "outputs": [
    {
     "name": "stdout",
     "output_type": "stream",
     "text": [
      "Entrez un entier naturel non nul: 5\n",
      "Les diviseurs de 5 :\n",
      "1\n",
      "5\n"
     ]
    }
   ],
   "source": [
    "n = -1\n",
    "\n",
    "while n < 0 :\n",
    "    n = input(\"Entrez un entier naturel non nul: \")\n",
    "    n = int(n)\n",
    "print(\"Les diviseurs de \" +str(n)+ \" :\")\n",
    "for i in range(1,n+1):\n",
    "    if n%i == 0:\n",
    "        print(i)"
   ]
  },
  {
   "cell_type": "markdown",
   "metadata": {},
   "source": [
    "Exrecice 9.b :"
   ]
  },
  {
   "cell_type": "code",
   "execution_count": 10,
   "metadata": {},
   "outputs": [
    {
     "name": "stdout",
     "output_type": "stream",
     "text": [
      "Entrez un entier naturel non nul: 12\n",
      "Les facteurs premiers de 12 :\n",
      "2\n",
      "3\n"
     ]
    }
   ],
   "source": [
    "n = -1\n",
    "\n",
    "while n < 1 :\n",
    "    n = input(\"Entrez un entier naturel non nul: \")\n",
    "    n = int(n)\n",
    "    \n",
    "print(\"Les facteurs premiers de \" +str(n)+ \" :\")\n",
    "\n",
    "for i in range(2,n+1):\n",
    "    if n%i == 0:\n",
    "        cpt = 0\n",
    "        for j in range(1,i+1):\n",
    "            if i%j == 0:\n",
    "                cpt+=1\n",
    "        if cpt==2:\n",
    "            print(i)"
   ]
  },
  {
   "cell_type": "markdown",
   "metadata": {},
   "source": [
    "Exercice 10 :"
   ]
  },
  {
   "cell_type": "code",
   "execution_count": 12,
   "metadata": {},
   "outputs": [
    {
     "name": "stdout",
     "output_type": "stream",
     "text": [
      "Entrez en entier non nul: 5\n",
      "Entrez en entier non nul: 9\n",
      "0 * 5 = 0\n",
      "1 * 5 = 5\n",
      "2 * 5 = 10\n",
      "3 * 5 = 15\n",
      "4 * 5 = 20\n",
      "5 * 5 = 25\n",
      "6 * 5 = 30\n",
      "7 * 5 = 35\n",
      "8 * 5 = 40\n"
     ]
    }
   ],
   "source": [
    "n = -1\n",
    "while n < 0 or n > 9:\n",
    "    n = input(\"Entrez en entier non nul: \")\n",
    "    n = int(n)\n",
    "    \n",
    "N = -1\n",
    "while N < 0 :\n",
    "    N = input(\"Entrez en entier non nul: \")\n",
    "    N = int(N)\n",
    "i = 0\n",
    "while i < N+1:\n",
    "    print(str(i)+ \" * \" +str(n)+ \" = \" +str(i*n))\n",
    "    i+=1"
   ]
  },
  {
   "cell_type": "markdown",
   "metadata": {},
   "source": [
    "Exercice 11 :"
   ]
  },
  {
   "cell_type": "code",
   "execution_count": 1,
   "metadata": {},
   "outputs": [
    {
     "name": "stdout",
     "output_type": "stream",
     "text": [
      "Les entiers compris entre 0 et 40 et multiples de 3, 7 ou 11 :\n",
      "3\n",
      "6\n",
      "7\n",
      "9\n",
      "11\n",
      "12\n",
      "14\n",
      "15\n",
      "18\n",
      "21\n",
      "22\n",
      "24\n",
      "27\n",
      "28\n",
      "30\n",
      "33\n",
      "35\n",
      "36\n",
      "39\n"
     ]
    }
   ],
   "source": [
    "i = 1\n",
    "print(\"Les entiers compris entre 0 et 40 et multiples de 3, 7 ou 11 :\")\n",
    "while i <= 40 :\n",
    "    if i%3 == 0 or i%7 == 0 or i%11 == 0 :\n",
    "        print(i)\n",
    "    i+=1"
   ]
  },
  {
   "cell_type": "markdown",
   "metadata": {},
   "source": [
    "Exercice 14 :"
   ]
  },
  {
   "cell_type": "code",
   "execution_count": null,
   "metadata": {},
   "outputs": [
    {
     "name": "stdout",
     "output_type": "stream",
     "text": [
      "Entrez en entier non nul: 5\n",
      "Entrez en entier non nul: 10\n",
      "0\n",
      "5\n",
      "10\n",
      "Voulez-vous continuer ? (o/n)o\n"
     ]
    }
   ],
   "source": [
    "c = True\n",
    "while c == True :\n",
    "    \n",
    "    x = -1\n",
    "    while x < 0 or x > 9:\n",
    "        x = input(\"Entrez en entier non nul: \")\n",
    "        x = int(x)\n",
    "    \n",
    "    max = -1\n",
    "    while max < 0 or max > 255 :\n",
    "        max = input(\"Entrez en entier non nul: \")\n",
    "        max = int(max)\n",
    "    \n",
    "    i = 0\n",
    "    while i <= max+1 :\n",
    "        if i%x == 0 :\n",
    "            print(i)\n",
    "        i+=1\n",
    "        \n",
    "    e = \"\"\n",
    "    while e != 'o' and e != 'n' :\n",
    "        e = input(\"Voulez-vous continuer ? (o/n)\")\n",
    "        if e == 'o' :\n",
    "            c = True\n",
    "        if e == 'n' :\n",
    "            c = False"
   ]
  },
  {
   "cell_type": "code",
   "execution_count": null,
   "metadata": {},
   "outputs": [],
   "source": []
  }
 ],
 "metadata": {
  "kernelspec": {
   "display_name": "Python 3",
   "language": "python",
   "name": "python3"
  },
  "language_info": {
   "codemirror_mode": {
    "name": "ipython",
    "version": 3
   },
   "file_extension": ".py",
   "mimetype": "text/x-python",
   "name": "python",
   "nbconvert_exporter": "python",
   "pygments_lexer": "ipython3",
   "version": "3.8.10"
  }
 },
 "nbformat": 4,
 "nbformat_minor": 4
}
