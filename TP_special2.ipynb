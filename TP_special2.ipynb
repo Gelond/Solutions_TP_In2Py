{
 "cells": [
  {
   "cell_type": "markdown",
   "metadata": {},
   "source": [
    "Exercice 1 :"
   ]
  },
  {
   "cell_type": "code",
   "execution_count": 10,
   "metadata": {},
   "outputs": [
    {
     "name": "stdout",
     "output_type": "stream",
     "text": [
      "Entrez un nombre: 2\n",
      "Entrez un nombre: 30\n",
      "-44399.18145821487\n"
     ]
    }
   ],
   "source": [
    "from math import sqrt\n",
    "from math import sin\n",
    "\n",
    "def f(x, y):\n",
    "    \n",
    "    \"\"\"Elle prend en paramètre deux arguments et calcule l'expression demandée\"\"\"\n",
    "    \n",
    "    return ( math.sqrt( pow(x, 2+y) ) )/( 1/x + 2*sin(y) )\n",
    "\n",
    "x = 0\n",
    "\n",
    "while x == 0:\n",
    "    \n",
    "    x = float(input(\"Entrez un nombre: \"))\n",
    "    \n",
    "y = float(input(\"Entrez un nombre: \"))\n",
    "\n",
    "print(f(x,y))"
   ]
  },
  {
   "cell_type": "markdown",
   "metadata": {},
   "source": [
    "Exercice 2 :"
   ]
  },
  {
   "cell_type": "code",
   "execution_count": 11,
   "metadata": {
    "scrolled": false
   },
   "outputs": [
    {
     "name": "stdout",
     "output_type": "stream",
     "text": [
      "Entrez un nombre: 2\n",
      "Entrez un entier non nul: 4\n",
      "16.0\n"
     ]
    }
   ],
   "source": [
    "from math import pi\n",
    "\n",
    "def ownpowerfn(b, n):\n",
    "    \n",
    "    \"\"\"Elle prend deux entiers b et n et calcule b à la puissace n\"\"\"\n",
    "    \n",
    "    r = 1\n",
    "    \n",
    "    for i in range(1 , n+1):\n",
    "        r = r*b\n",
    "        \n",
    "    return r\n",
    "\n",
    "b = float(input(\"Entrez un nombre: \"))\n",
    "n = 0\n",
    "while n == 0:\n",
    "    n = int(input(\"Entrez un entier non nul: \"))\n",
    "    \n",
    "print(ownpowerfn(b,n))"
   ]
  },
  {
   "cell_type": "markdown",
   "metadata": {},
   "source": [
    "Exercice 3 :"
   ]
  },
  {
   "cell_type": "code",
   "execution_count": 19,
   "metadata": {},
   "outputs": [
    {
     "name": "stdout",
     "output_type": "stream",
     "text": [
      "2.0\n",
      "0.017453292519943295\n",
      "57.29577951308232\n",
      "78.53981633974483\n",
      "37.69911184307752\n"
     ]
    }
   ],
   "source": [
    "def arithmetic_mean(a,b):\n",
    "    \n",
    "    \"\"\"Elle prend deux nombres et retournes la moyenne arithmetique\"\"\"\n",
    "    \n",
    "    return (a+b)/2\n",
    "\n",
    "\n",
    "def geometric_mean(a,b):\n",
    "    \n",
    "    \"\"\"Elle prend deux nombres et retournes la moyenne géométrique\"\"\"\n",
    "    \n",
    "    return pow(a*b, 1/2)\n",
    "\n",
    "print(geometric_mean(2,2))\n",
    "\n",
    "\n",
    "def celcius_to_fahrenheit(c):\n",
    "    \n",
    "    \"\"\"Elle convertit les °C en °F\"\"\"\n",
    "    \n",
    "    return (c*9/5)+32\n",
    "\n",
    "\n",
    "def fahrenheit_to_celcius(f):\n",
    "    \n",
    "    \"\"\"Elle convertit les °F en °C\"\"\"\n",
    "    \n",
    "    return (f - 32)*5/9\n",
    "\n",
    "\n",
    "def degrees_to_radians(d):\n",
    "    \n",
    "    \"\"\"Elle convertit les ° en radian\"\"\"\n",
    "    \n",
    "    return pi*d/180\n",
    "\n",
    "print(degrees_to_radians(1))\n",
    "\n",
    "\n",
    "def radians_to_degrees(r):\n",
    "    \n",
    "    \"\"\"Elle convertit les radian en ° \"\"\"\n",
    "    \n",
    "    return 180*r/pi\n",
    "\n",
    "print(radians_to_degrees(1))\n",
    "\n",
    "\n",
    "def aire_circle(r):\n",
    "    \n",
    "    \"\"\"Elle prend un rayon en argument et calcule l'aire du cercle correspodant.\"\"\"\n",
    "    \n",
    "    return pi*r*r\n",
    "\n",
    "print(aire_circle(5))\n",
    "\n",
    "\n",
    "def circonference_circle(r):\n",
    "    \n",
    "    \"\"\"Elle prend un rayon en argument et calcule la circonference du cercle correspodant.\"\"\"\n",
    "    \n",
    "    return 2*pi*r\n",
    "\n",
    "print(circonference_circle(6))"
   ]
  },
  {
   "cell_type": "markdown",
   "metadata": {},
   "source": [
    "Exercice 4.a :"
   ]
  },
  {
   "cell_type": "code",
   "execution_count": 14,
   "metadata": {},
   "outputs": [
    {
     "name": "stdout",
     "output_type": "stream",
     "text": [
      "(3.0, 2.23606797749979)\n",
      "(2.618033988749895, 2.5900200641113513)\n",
      "(2.6040270264306233, 2.6039893546993813)\n",
      "(2.6040081905650023, 2.6040081904968786)\n",
      "(2.6040081905309407, 2.6040081905309402)\n",
      "(2.6040081905309407, 2.6040081905309402)\n",
      "(2.6040081905309407, 2.6040081905309402)\n",
      "(2.6040081905309407, 2.6040081905309402)\n",
      "(2.6040081905309407, 2.6040081905309402)\n",
      "(2.6040081905309407, 2.6040081905309402)\n"
     ]
    }
   ],
   "source": [
    "def ave_geo_mean(a,b):\n",
    "    \n",
    "    \"\"\"Elle prend deux nombres et retournes la moyenne arimthmetique et la moyenne géométrique\"\"\"\n",
    "    \n",
    "    return ((a+b)/2, pow(a*b, 1/2))\n",
    "\n",
    "def avggeom(a, b):\n",
    "    \n",
    "    \"\"\"Elle effectue 10 fois le processus de la fonction ave_geo_mean\"\"\"\n",
    "    \n",
    "    r = ave_geo_mean(a,b)\n",
    "    print(r)\n",
    "    \n",
    "    i = 1\n",
    "    \n",
    "    while i < 10:\n",
    "        r = ave_geo_mean(r[0],r[1])\n",
    "        print(r)\n",
    "        i += 1\n",
    "        \n",
    "avggeom(5,1)"
   ]
  },
  {
   "cell_type": "markdown",
   "metadata": {},
   "source": [
    "Exercice 4.b :"
   ]
  },
  {
   "cell_type": "code",
   "execution_count": 2,
   "metadata": {},
   "outputs": [
    {
     "name": "stdout",
     "output_type": "stream",
     "text": [
      "La distance AB = 2.8284271247461903\n",
      "Le perimètre du triangle ABC est 11.31370849898476\n"
     ]
    }
   ],
   "source": [
    "from math import sqrt\n",
    "\n",
    "def distance(A,B):\n",
    "    \n",
    "    \"\"\"Elle calcule la distance entre deux points du plan\"\"\"\n",
    "    \n",
    "    v = (B[0]-A[0], B[1]-A[1])\n",
    "    \n",
    "    return sqrt(pow(v[0], 2) + pow(v[1], 2))\n",
    "\n",
    "A = (0,3)\n",
    "B = (2,5)\n",
    "\n",
    "print(\"La distance AB = \" +str(distance(A,B)))\n",
    "\n",
    "def distancefn(a,b,c):\n",
    "    \n",
    "    \"\"\"Elle calcule le perimètre d'un triangle\"\"\"\n",
    "    \n",
    "    p = distance(a,b) + distance(a,c) + distance(b,c)\n",
    "    return p\n",
    "\n",
    "A = (2,3)\n",
    "B = (5,0)\n",
    "C = (1,4)\n",
    "\n",
    "print(\"Le perimètre du triangle ABC est \" +str(distancefn(A,B,C)))\n"
   ]
  },
  {
   "cell_type": "markdown",
   "metadata": {},
   "source": [
    "Exercice 5 :"
   ]
  },
  {
   "cell_type": "code",
   "execution_count": 6,
   "metadata": {},
   "outputs": [
    {
     "name": "stdout",
     "output_type": "stream",
     "text": [
      "\n",
      "Choose in :\n",
      "\n",
      "1. Evalution of factorial.\n",
      "2. Evaluation of a second degree equation.\n",
      "3. Exit\n",
      "\n",
      "1\n",
      "\n",
      "Entrez un entier naturel: 7\n",
      "\n",
      "Factoriel de 7 est 5040\n",
      "\n",
      "Choose in :\n",
      "\n",
      "1. Evalution of factorial.\n",
      "2. Evaluation of a second degree equation.\n",
      "3. Exit\n",
      "\n",
      "3\n",
      "\n",
      "Vous quittez le programme!!\n"
     ]
    }
   ],
   "source": [
    "from math import sqrt\n",
    "\n",
    "def menu():\n",
    "    \n",
    "    \"\"\"Elle présente les options à l'utilisateur\"\"\"\n",
    "    \n",
    "    print(\"\\nChoose in :\\n\\n1. Evalution of factorial.\\n2. Evaluation of a second degree equation.\\n3. Exit\\n\")\n",
    "    \n",
    "def degree_equation():\n",
    "    \n",
    "    \"\"\"Elle determine les solutions d'une équation du second degré\"\"\"\n",
    "    \n",
    "    print(\"\\nEntrez les coéfficients de l'équation dans l'ordre:\\n\")\n",
    "    \n",
    "    a = float(input(\"Entrez le premier coéfficient: \"))\n",
    "    b = float(input(\"Entrez le deuxième coéfficient: \"))\n",
    "    c = float(input(\"Entrez le troisième coéfficient: \"))\n",
    "    \n",
    "    d = b*b - 4*a*c\n",
    "    \n",
    "    print(\"\\nLe discriminant de l'équation \" +str(a)+ \"x² + \" +str(b)+ \"x + \" +str(c)+ \" est: \" +str(d))\n",
    "    \n",
    "    if d < 0:\n",
    "        \n",
    "        print(\"\\nLe discriminant est inférieur à 0, l'équation n'admet pas de solutions réelles.\\n\")\n",
    "        \n",
    "    elif d > 0:\n",
    "        \n",
    "        x1 = (-b - sqrt(d))/2\n",
    "        x2 = (-b + sqrt(d))/2\n",
    "        \n",
    "        print(\"\\nLe discriminant est supérieur à 0, l'équation admet deux solutions réelles:\\n\" +str(x1)+ \" et \" +str(x2))\n",
    "        \n",
    "    else:\n",
    "        x = -b/2*a\n",
    "        \n",
    "        print(\"\\nLe discriminant est nul, l'équation admet une double solutions réelles:\\n\" +str(x))\n",
    "        \n",
    "\n",
    "def factoriel():\n",
    "    \n",
    "    \"\"\"Elle calcule le factoriel d'un entier naturel\"\"\"\n",
    "    \n",
    "    n = -1\n",
    "    \n",
    "    while n < 0:\n",
    "        n = int(input(\"\\nEntrez un entier naturel: \"))\n",
    "        \n",
    "    if n < 2:\n",
    "        print(\"\\nFactoriel de \" +str(n)+ \" est 1\")\n",
    "    \n",
    "    else:\n",
    "        fac = 1\n",
    "        \n",
    "        for i in range(2,n+1):\n",
    "            fac = fac*i\n",
    "            \n",
    "        print(\"\\nFactoriel de \" +str(n)+ \" est \" +str(fac))\n",
    "\n",
    "\n",
    "def fact2nddeg():\n",
    "    \n",
    "    \"\"\"Elle test les fonctions précedentes\"\"\"\n",
    "    \n",
    "    c = True\n",
    "    \n",
    "    while c:\n",
    "        \n",
    "        op = 0\n",
    "        while op < 1 or op > 3:\n",
    "            menu()\n",
    "            op = int(input())\n",
    "            \n",
    "            if op == 1:\n",
    "                factoriel()\n",
    "                \n",
    "            elif op == 2:\n",
    "                degree_equation()\n",
    "                \n",
    "            else:\n",
    "                c = False\n",
    "                print(\"\\nVous quittez le programme!!\")\n",
    "\n",
    "\n",
    "fact2nddeg()"
   ]
  },
  {
   "cell_type": "markdown",
   "metadata": {},
   "source": [
    "Exercice 6 :"
   ]
  },
  {
   "cell_type": "code",
   "execution_count": 3,
   "metadata": {},
   "outputs": [
    {
     "data": {
      "text/plain": [
       "39.0625"
      ]
     },
     "execution_count": 3,
     "metadata": {},
     "output_type": "execute_result"
    }
   ],
   "source": [
    "def power(x,n):\n",
    "    \n",
    "    \"\"\"Elle calcule x à la puissance n, x et n sont des arguments et n est un entier naturel\"\"\"\n",
    "    p = 1\n",
    "    if n == 0:\n",
    "        return 1\n",
    "    \n",
    "    else:\n",
    "        xn = x\n",
    "        \n",
    "        for i in range(2,n+1):\n",
    "            xn = x * xn\n",
    "        \n",
    "        return xn\n",
    "    \n",
    "power(2.5,4)"
   ]
  },
  {
   "cell_type": "markdown",
   "metadata": {},
   "source": [
    "Exercice 7 :"
   ]
  },
  {
   "cell_type": "code",
   "execution_count": 11,
   "metadata": {},
   "outputs": [
    {
     "name": "stdout",
     "output_type": "stream",
     "text": [
      "Entrez en entier non nul: 100\n",
      "\n",
      "Fibonacci(100) = 573147844013817084101\n"
     ]
    }
   ],
   "source": [
    "def fibonacci(n):\n",
    "    \n",
    "    \"\"\"Elle calcule les termes de la suite de fibonacci\"\"\"\n",
    "    \n",
    "    if n < 2:\n",
    "        print(\"\\nFibonacci(\" +str(n)+ \") = \" +str(n))\n",
    "        \n",
    "    else:\n",
    "        (a, b , c) = (0, 1, 0)\n",
    "        \n",
    "        while c < n:\n",
    "            (a, b, c) = (b, a+b, c+1)\n",
    "            \n",
    "        print(\"\\nFibonacci(\" +str(n)+ \") = \" +str(b))\n",
    "        \n",
    "n = -1\n",
    "while n < 0 :\n",
    "    n = int(input(\"Entrez en entier non nul: \"))\n",
    "    \n",
    "fibonacci(n)"
   ]
  },
  {
   "cell_type": "code",
   "execution_count": null,
   "metadata": {},
   "outputs": [],
   "source": []
  }
 ],
 "metadata": {
  "kernelspec": {
   "display_name": "Python 3",
   "language": "python",
   "name": "python3"
  },
  "language_info": {
   "codemirror_mode": {
    "name": "ipython",
    "version": 3
   },
   "file_extension": ".py",
   "mimetype": "text/x-python",
   "name": "python",
   "nbconvert_exporter": "python",
   "pygments_lexer": "ipython3",
   "version": "3.8.10"
  }
 },
 "nbformat": 4,
 "nbformat_minor": 4
}
